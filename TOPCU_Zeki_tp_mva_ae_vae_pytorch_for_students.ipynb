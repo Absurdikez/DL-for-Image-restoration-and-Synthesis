{
  "nbformat": 4,
  "nbformat_minor": 0,
  "metadata": {
    "colab": {
      "provenance": []
    },
    "kernelspec": {
      "name": "python3",
      "display_name": "Python 3"
    },
    "language_info": {
      "name": "python"
    },
    "accelerator": "GPU",
    "gpuClass": "standard",
    "widgets": {
      "application/vnd.jupyter.widget-state+json": {
        "ae6127e48b7843f8b2b2c9f6600bf02a": {
          "model_module": "@jupyter-widgets/controls",
          "model_name": "HBoxModel",
          "model_module_version": "1.5.0",
          "state": {
            "_dom_classes": [],
            "_model_module": "@jupyter-widgets/controls",
            "_model_module_version": "1.5.0",
            "_model_name": "HBoxModel",
            "_view_count": null,
            "_view_module": "@jupyter-widgets/controls",
            "_view_module_version": "1.5.0",
            "_view_name": "HBoxView",
            "box_style": "",
            "children": [
              "IPY_MODEL_04c6f7c907834284a8fcaf341a6727a7",
              "IPY_MODEL_644ae6cc58904cc28c38c93057db4956",
              "IPY_MODEL_da94bac55ca84cab9accfdfe9374c954"
            ],
            "layout": "IPY_MODEL_4ad1ce2a697e4b5f85b813a8beb74aa4"
          }
        },
        "04c6f7c907834284a8fcaf341a6727a7": {
          "model_module": "@jupyter-widgets/controls",
          "model_name": "HTMLModel",
          "model_module_version": "1.5.0",
          "state": {
            "_dom_classes": [],
            "_model_module": "@jupyter-widgets/controls",
            "_model_module_version": "1.5.0",
            "_model_name": "HTMLModel",
            "_view_count": null,
            "_view_module": "@jupyter-widgets/controls",
            "_view_module_version": "1.5.0",
            "_view_name": "HTMLView",
            "description": "",
            "description_tooltip": null,
            "layout": "IPY_MODEL_a034256e676945f9a46a5359cc897b42",
            "placeholder": "​",
            "style": "IPY_MODEL_e872f6ded70341379a44e27f3af7fd33",
            "value": "100%"
          }
        },
        "644ae6cc58904cc28c38c93057db4956": {
          "model_module": "@jupyter-widgets/controls",
          "model_name": "FloatProgressModel",
          "model_module_version": "1.5.0",
          "state": {
            "_dom_classes": [],
            "_model_module": "@jupyter-widgets/controls",
            "_model_module_version": "1.5.0",
            "_model_name": "FloatProgressModel",
            "_view_count": null,
            "_view_module": "@jupyter-widgets/controls",
            "_view_module_version": "1.5.0",
            "_view_name": "ProgressView",
            "bar_style": "success",
            "description": "",
            "description_tooltip": null,
            "layout": "IPY_MODEL_bd349dd07b89466096687fe199f8093e",
            "max": 9912422,
            "min": 0,
            "orientation": "horizontal",
            "style": "IPY_MODEL_01e58aa83d884872a22e50421f9be981",
            "value": 9912422
          }
        },
        "da94bac55ca84cab9accfdfe9374c954": {
          "model_module": "@jupyter-widgets/controls",
          "model_name": "HTMLModel",
          "model_module_version": "1.5.0",
          "state": {
            "_dom_classes": [],
            "_model_module": "@jupyter-widgets/controls",
            "_model_module_version": "1.5.0",
            "_model_name": "HTMLModel",
            "_view_count": null,
            "_view_module": "@jupyter-widgets/controls",
            "_view_module_version": "1.5.0",
            "_view_name": "HTMLView",
            "description": "",
            "description_tooltip": null,
            "layout": "IPY_MODEL_da58340267c640b4b818aea4db985887",
            "placeholder": "​",
            "style": "IPY_MODEL_4bf7f058d81345e596af79e6b4b137d4",
            "value": " 9912422/9912422 [00:00&lt;00:00, 116671655.92it/s]"
          }
        },
        "4ad1ce2a697e4b5f85b813a8beb74aa4": {
          "model_module": "@jupyter-widgets/base",
          "model_name": "LayoutModel",
          "model_module_version": "1.2.0",
          "state": {
            "_model_module": "@jupyter-widgets/base",
            "_model_module_version": "1.2.0",
            "_model_name": "LayoutModel",
            "_view_count": null,
            "_view_module": "@jupyter-widgets/base",
            "_view_module_version": "1.2.0",
            "_view_name": "LayoutView",
            "align_content": null,
            "align_items": null,
            "align_self": null,
            "border": null,
            "bottom": null,
            "display": null,
            "flex": null,
            "flex_flow": null,
            "grid_area": null,
            "grid_auto_columns": null,
            "grid_auto_flow": null,
            "grid_auto_rows": null,
            "grid_column": null,
            "grid_gap": null,
            "grid_row": null,
            "grid_template_areas": null,
            "grid_template_columns": null,
            "grid_template_rows": null,
            "height": null,
            "justify_content": null,
            "justify_items": null,
            "left": null,
            "margin": null,
            "max_height": null,
            "max_width": null,
            "min_height": null,
            "min_width": null,
            "object_fit": null,
            "object_position": null,
            "order": null,
            "overflow": null,
            "overflow_x": null,
            "overflow_y": null,
            "padding": null,
            "right": null,
            "top": null,
            "visibility": null,
            "width": null
          }
        },
        "a034256e676945f9a46a5359cc897b42": {
          "model_module": "@jupyter-widgets/base",
          "model_name": "LayoutModel",
          "model_module_version": "1.2.0",
          "state": {
            "_model_module": "@jupyter-widgets/base",
            "_model_module_version": "1.2.0",
            "_model_name": "LayoutModel",
            "_view_count": null,
            "_view_module": "@jupyter-widgets/base",
            "_view_module_version": "1.2.0",
            "_view_name": "LayoutView",
            "align_content": null,
            "align_items": null,
            "align_self": null,
            "border": null,
            "bottom": null,
            "display": null,
            "flex": null,
            "flex_flow": null,
            "grid_area": null,
            "grid_auto_columns": null,
            "grid_auto_flow": null,
            "grid_auto_rows": null,
            "grid_column": null,
            "grid_gap": null,
            "grid_row": null,
            "grid_template_areas": null,
            "grid_template_columns": null,
            "grid_template_rows": null,
            "height": null,
            "justify_content": null,
            "justify_items": null,
            "left": null,
            "margin": null,
            "max_height": null,
            "max_width": null,
            "min_height": null,
            "min_width": null,
            "object_fit": null,
            "object_position": null,
            "order": null,
            "overflow": null,
            "overflow_x": null,
            "overflow_y": null,
            "padding": null,
            "right": null,
            "top": null,
            "visibility": null,
            "width": null
          }
        },
        "e872f6ded70341379a44e27f3af7fd33": {
          "model_module": "@jupyter-widgets/controls",
          "model_name": "DescriptionStyleModel",
          "model_module_version": "1.5.0",
          "state": {
            "_model_module": "@jupyter-widgets/controls",
            "_model_module_version": "1.5.0",
            "_model_name": "DescriptionStyleModel",
            "_view_count": null,
            "_view_module": "@jupyter-widgets/base",
            "_view_module_version": "1.2.0",
            "_view_name": "StyleView",
            "description_width": ""
          }
        },
        "bd349dd07b89466096687fe199f8093e": {
          "model_module": "@jupyter-widgets/base",
          "model_name": "LayoutModel",
          "model_module_version": "1.2.0",
          "state": {
            "_model_module": "@jupyter-widgets/base",
            "_model_module_version": "1.2.0",
            "_model_name": "LayoutModel",
            "_view_count": null,
            "_view_module": "@jupyter-widgets/base",
            "_view_module_version": "1.2.0",
            "_view_name": "LayoutView",
            "align_content": null,
            "align_items": null,
            "align_self": null,
            "border": null,
            "bottom": null,
            "display": null,
            "flex": null,
            "flex_flow": null,
            "grid_area": null,
            "grid_auto_columns": null,
            "grid_auto_flow": null,
            "grid_auto_rows": null,
            "grid_column": null,
            "grid_gap": null,
            "grid_row": null,
            "grid_template_areas": null,
            "grid_template_columns": null,
            "grid_template_rows": null,
            "height": null,
            "justify_content": null,
            "justify_items": null,
            "left": null,
            "margin": null,
            "max_height": null,
            "max_width": null,
            "min_height": null,
            "min_width": null,
            "object_fit": null,
            "object_position": null,
            "order": null,
            "overflow": null,
            "overflow_x": null,
            "overflow_y": null,
            "padding": null,
            "right": null,
            "top": null,
            "visibility": null,
            "width": null
          }
        },
        "01e58aa83d884872a22e50421f9be981": {
          "model_module": "@jupyter-widgets/controls",
          "model_name": "ProgressStyleModel",
          "model_module_version": "1.5.0",
          "state": {
            "_model_module": "@jupyter-widgets/controls",
            "_model_module_version": "1.5.0",
            "_model_name": "ProgressStyleModel",
            "_view_count": null,
            "_view_module": "@jupyter-widgets/base",
            "_view_module_version": "1.2.0",
            "_view_name": "StyleView",
            "bar_color": null,
            "description_width": ""
          }
        },
        "da58340267c640b4b818aea4db985887": {
          "model_module": "@jupyter-widgets/base",
          "model_name": "LayoutModel",
          "model_module_version": "1.2.0",
          "state": {
            "_model_module": "@jupyter-widgets/base",
            "_model_module_version": "1.2.0",
            "_model_name": "LayoutModel",
            "_view_count": null,
            "_view_module": "@jupyter-widgets/base",
            "_view_module_version": "1.2.0",
            "_view_name": "LayoutView",
            "align_content": null,
            "align_items": null,
            "align_self": null,
            "border": null,
            "bottom": null,
            "display": null,
            "flex": null,
            "flex_flow": null,
            "grid_area": null,
            "grid_auto_columns": null,
            "grid_auto_flow": null,
            "grid_auto_rows": null,
            "grid_column": null,
            "grid_gap": null,
            "grid_row": null,
            "grid_template_areas": null,
            "grid_template_columns": null,
            "grid_template_rows": null,
            "height": null,
            "justify_content": null,
            "justify_items": null,
            "left": null,
            "margin": null,
            "max_height": null,
            "max_width": null,
            "min_height": null,
            "min_width": null,
            "object_fit": null,
            "object_position": null,
            "order": null,
            "overflow": null,
            "overflow_x": null,
            "overflow_y": null,
            "padding": null,
            "right": null,
            "top": null,
            "visibility": null,
            "width": null
          }
        },
        "4bf7f058d81345e596af79e6b4b137d4": {
          "model_module": "@jupyter-widgets/controls",
          "model_name": "DescriptionStyleModel",
          "model_module_version": "1.5.0",
          "state": {
            "_model_module": "@jupyter-widgets/controls",
            "_model_module_version": "1.5.0",
            "_model_name": "DescriptionStyleModel",
            "_view_count": null,
            "_view_module": "@jupyter-widgets/base",
            "_view_module_version": "1.2.0",
            "_view_name": "StyleView",
            "description_width": ""
          }
        },
        "da81569bfe504e358e4f5d34736a8423": {
          "model_module": "@jupyter-widgets/controls",
          "model_name": "HBoxModel",
          "model_module_version": "1.5.0",
          "state": {
            "_dom_classes": [],
            "_model_module": "@jupyter-widgets/controls",
            "_model_module_version": "1.5.0",
            "_model_name": "HBoxModel",
            "_view_count": null,
            "_view_module": "@jupyter-widgets/controls",
            "_view_module_version": "1.5.0",
            "_view_name": "HBoxView",
            "box_style": "",
            "children": [
              "IPY_MODEL_6d157301b04d4827804a82a83f31dee1",
              "IPY_MODEL_1bedc5636c8e444595f206c27bf2c088",
              "IPY_MODEL_f39c08f956ff471493444052a4103840"
            ],
            "layout": "IPY_MODEL_a79864405a274d05a966d9b29d698778"
          }
        },
        "6d157301b04d4827804a82a83f31dee1": {
          "model_module": "@jupyter-widgets/controls",
          "model_name": "HTMLModel",
          "model_module_version": "1.5.0",
          "state": {
            "_dom_classes": [],
            "_model_module": "@jupyter-widgets/controls",
            "_model_module_version": "1.5.0",
            "_model_name": "HTMLModel",
            "_view_count": null,
            "_view_module": "@jupyter-widgets/controls",
            "_view_module_version": "1.5.0",
            "_view_name": "HTMLView",
            "description": "",
            "description_tooltip": null,
            "layout": "IPY_MODEL_00acb36cfac242259671edb41a5f2b4f",
            "placeholder": "​",
            "style": "IPY_MODEL_bf2c1997bd6c44bdb15416640d34cf25",
            "value": "100%"
          }
        },
        "1bedc5636c8e444595f206c27bf2c088": {
          "model_module": "@jupyter-widgets/controls",
          "model_name": "FloatProgressModel",
          "model_module_version": "1.5.0",
          "state": {
            "_dom_classes": [],
            "_model_module": "@jupyter-widgets/controls",
            "_model_module_version": "1.5.0",
            "_model_name": "FloatProgressModel",
            "_view_count": null,
            "_view_module": "@jupyter-widgets/controls",
            "_view_module_version": "1.5.0",
            "_view_name": "ProgressView",
            "bar_style": "success",
            "description": "",
            "description_tooltip": null,
            "layout": "IPY_MODEL_9ec95de8125d48d49ff7b8bdeaeade1d",
            "max": 28881,
            "min": 0,
            "orientation": "horizontal",
            "style": "IPY_MODEL_a7632faf4e134d758a1646e79d330b92",
            "value": 28881
          }
        },
        "f39c08f956ff471493444052a4103840": {
          "model_module": "@jupyter-widgets/controls",
          "model_name": "HTMLModel",
          "model_module_version": "1.5.0",
          "state": {
            "_dom_classes": [],
            "_model_module": "@jupyter-widgets/controls",
            "_model_module_version": "1.5.0",
            "_model_name": "HTMLModel",
            "_view_count": null,
            "_view_module": "@jupyter-widgets/controls",
            "_view_module_version": "1.5.0",
            "_view_name": "HTMLView",
            "description": "",
            "description_tooltip": null,
            "layout": "IPY_MODEL_1560e317105b430283c693ab493046a5",
            "placeholder": "​",
            "style": "IPY_MODEL_cc48848da79a4c9ca48bd942951f42b1",
            "value": " 28881/28881 [00:00&lt;00:00, 566221.34it/s]"
          }
        },
        "a79864405a274d05a966d9b29d698778": {
          "model_module": "@jupyter-widgets/base",
          "model_name": "LayoutModel",
          "model_module_version": "1.2.0",
          "state": {
            "_model_module": "@jupyter-widgets/base",
            "_model_module_version": "1.2.0",
            "_model_name": "LayoutModel",
            "_view_count": null,
            "_view_module": "@jupyter-widgets/base",
            "_view_module_version": "1.2.0",
            "_view_name": "LayoutView",
            "align_content": null,
            "align_items": null,
            "align_self": null,
            "border": null,
            "bottom": null,
            "display": null,
            "flex": null,
            "flex_flow": null,
            "grid_area": null,
            "grid_auto_columns": null,
            "grid_auto_flow": null,
            "grid_auto_rows": null,
            "grid_column": null,
            "grid_gap": null,
            "grid_row": null,
            "grid_template_areas": null,
            "grid_template_columns": null,
            "grid_template_rows": null,
            "height": null,
            "justify_content": null,
            "justify_items": null,
            "left": null,
            "margin": null,
            "max_height": null,
            "max_width": null,
            "min_height": null,
            "min_width": null,
            "object_fit": null,
            "object_position": null,
            "order": null,
            "overflow": null,
            "overflow_x": null,
            "overflow_y": null,
            "padding": null,
            "right": null,
            "top": null,
            "visibility": null,
            "width": null
          }
        },
        "00acb36cfac242259671edb41a5f2b4f": {
          "model_module": "@jupyter-widgets/base",
          "model_name": "LayoutModel",
          "model_module_version": "1.2.0",
          "state": {
            "_model_module": "@jupyter-widgets/base",
            "_model_module_version": "1.2.0",
            "_model_name": "LayoutModel",
            "_view_count": null,
            "_view_module": "@jupyter-widgets/base",
            "_view_module_version": "1.2.0",
            "_view_name": "LayoutView",
            "align_content": null,
            "align_items": null,
            "align_self": null,
            "border": null,
            "bottom": null,
            "display": null,
            "flex": null,
            "flex_flow": null,
            "grid_area": null,
            "grid_auto_columns": null,
            "grid_auto_flow": null,
            "grid_auto_rows": null,
            "grid_column": null,
            "grid_gap": null,
            "grid_row": null,
            "grid_template_areas": null,
            "grid_template_columns": null,
            "grid_template_rows": null,
            "height": null,
            "justify_content": null,
            "justify_items": null,
            "left": null,
            "margin": null,
            "max_height": null,
            "max_width": null,
            "min_height": null,
            "min_width": null,
            "object_fit": null,
            "object_position": null,
            "order": null,
            "overflow": null,
            "overflow_x": null,
            "overflow_y": null,
            "padding": null,
            "right": null,
            "top": null,
            "visibility": null,
            "width": null
          }
        },
        "bf2c1997bd6c44bdb15416640d34cf25": {
          "model_module": "@jupyter-widgets/controls",
          "model_name": "DescriptionStyleModel",
          "model_module_version": "1.5.0",
          "state": {
            "_model_module": "@jupyter-widgets/controls",
            "_model_module_version": "1.5.0",
            "_model_name": "DescriptionStyleModel",
            "_view_count": null,
            "_view_module": "@jupyter-widgets/base",
            "_view_module_version": "1.2.0",
            "_view_name": "StyleView",
            "description_width": ""
          }
        },
        "9ec95de8125d48d49ff7b8bdeaeade1d": {
          "model_module": "@jupyter-widgets/base",
          "model_name": "LayoutModel",
          "model_module_version": "1.2.0",
          "state": {
            "_model_module": "@jupyter-widgets/base",
            "_model_module_version": "1.2.0",
            "_model_name": "LayoutModel",
            "_view_count": null,
            "_view_module": "@jupyter-widgets/base",
            "_view_module_version": "1.2.0",
            "_view_name": "LayoutView",
            "align_content": null,
            "align_items": null,
            "align_self": null,
            "border": null,
            "bottom": null,
            "display": null,
            "flex": null,
            "flex_flow": null,
            "grid_area": null,
            "grid_auto_columns": null,
            "grid_auto_flow": null,
            "grid_auto_rows": null,
            "grid_column": null,
            "grid_gap": null,
            "grid_row": null,
            "grid_template_areas": null,
            "grid_template_columns": null,
            "grid_template_rows": null,
            "height": null,
            "justify_content": null,
            "justify_items": null,
            "left": null,
            "margin": null,
            "max_height": null,
            "max_width": null,
            "min_height": null,
            "min_width": null,
            "object_fit": null,
            "object_position": null,
            "order": null,
            "overflow": null,
            "overflow_x": null,
            "overflow_y": null,
            "padding": null,
            "right": null,
            "top": null,
            "visibility": null,
            "width": null
          }
        },
        "a7632faf4e134d758a1646e79d330b92": {
          "model_module": "@jupyter-widgets/controls",
          "model_name": "ProgressStyleModel",
          "model_module_version": "1.5.0",
          "state": {
            "_model_module": "@jupyter-widgets/controls",
            "_model_module_version": "1.5.0",
            "_model_name": "ProgressStyleModel",
            "_view_count": null,
            "_view_module": "@jupyter-widgets/base",
            "_view_module_version": "1.2.0",
            "_view_name": "StyleView",
            "bar_color": null,
            "description_width": ""
          }
        },
        "1560e317105b430283c693ab493046a5": {
          "model_module": "@jupyter-widgets/base",
          "model_name": "LayoutModel",
          "model_module_version": "1.2.0",
          "state": {
            "_model_module": "@jupyter-widgets/base",
            "_model_module_version": "1.2.0",
            "_model_name": "LayoutModel",
            "_view_count": null,
            "_view_module": "@jupyter-widgets/base",
            "_view_module_version": "1.2.0",
            "_view_name": "LayoutView",
            "align_content": null,
            "align_items": null,
            "align_self": null,
            "border": null,
            "bottom": null,
            "display": null,
            "flex": null,
            "flex_flow": null,
            "grid_area": null,
            "grid_auto_columns": null,
            "grid_auto_flow": null,
            "grid_auto_rows": null,
            "grid_column": null,
            "grid_gap": null,
            "grid_row": null,
            "grid_template_areas": null,
            "grid_template_columns": null,
            "grid_template_rows": null,
            "height": null,
            "justify_content": null,
            "justify_items": null,
            "left": null,
            "margin": null,
            "max_height": null,
            "max_width": null,
            "min_height": null,
            "min_width": null,
            "object_fit": null,
            "object_position": null,
            "order": null,
            "overflow": null,
            "overflow_x": null,
            "overflow_y": null,
            "padding": null,
            "right": null,
            "top": null,
            "visibility": null,
            "width": null
          }
        },
        "cc48848da79a4c9ca48bd942951f42b1": {
          "model_module": "@jupyter-widgets/controls",
          "model_name": "DescriptionStyleModel",
          "model_module_version": "1.5.0",
          "state": {
            "_model_module": "@jupyter-widgets/controls",
            "_model_module_version": "1.5.0",
            "_model_name": "DescriptionStyleModel",
            "_view_count": null,
            "_view_module": "@jupyter-widgets/base",
            "_view_module_version": "1.2.0",
            "_view_name": "StyleView",
            "description_width": ""
          }
        },
        "b31993bccd6347e6bc173867487cc131": {
          "model_module": "@jupyter-widgets/controls",
          "model_name": "HBoxModel",
          "model_module_version": "1.5.0",
          "state": {
            "_dom_classes": [],
            "_model_module": "@jupyter-widgets/controls",
            "_model_module_version": "1.5.0",
            "_model_name": "HBoxModel",
            "_view_count": null,
            "_view_module": "@jupyter-widgets/controls",
            "_view_module_version": "1.5.0",
            "_view_name": "HBoxView",
            "box_style": "",
            "children": [
              "IPY_MODEL_2dcc8066f6a04155a470af0c8432249e",
              "IPY_MODEL_4a43b8a4d6c94b13a418ffd4820c5104",
              "IPY_MODEL_ec7ef8e4ab634acaa30512d9b111bfad"
            ],
            "layout": "IPY_MODEL_f0b4035d681e4c588f5ef32f414804f4"
          }
        },
        "2dcc8066f6a04155a470af0c8432249e": {
          "model_module": "@jupyter-widgets/controls",
          "model_name": "HTMLModel",
          "model_module_version": "1.5.0",
          "state": {
            "_dom_classes": [],
            "_model_module": "@jupyter-widgets/controls",
            "_model_module_version": "1.5.0",
            "_model_name": "HTMLModel",
            "_view_count": null,
            "_view_module": "@jupyter-widgets/controls",
            "_view_module_version": "1.5.0",
            "_view_name": "HTMLView",
            "description": "",
            "description_tooltip": null,
            "layout": "IPY_MODEL_343ac60b24284962a9c9f980eea792fb",
            "placeholder": "​",
            "style": "IPY_MODEL_4cfa45518334480887e90515a667ad4a",
            "value": "100%"
          }
        },
        "4a43b8a4d6c94b13a418ffd4820c5104": {
          "model_module": "@jupyter-widgets/controls",
          "model_name": "FloatProgressModel",
          "model_module_version": "1.5.0",
          "state": {
            "_dom_classes": [],
            "_model_module": "@jupyter-widgets/controls",
            "_model_module_version": "1.5.0",
            "_model_name": "FloatProgressModel",
            "_view_count": null,
            "_view_module": "@jupyter-widgets/controls",
            "_view_module_version": "1.5.0",
            "_view_name": "ProgressView",
            "bar_style": "success",
            "description": "",
            "description_tooltip": null,
            "layout": "IPY_MODEL_a6423c8e73a348d0aa5bac355c07df65",
            "max": 1648877,
            "min": 0,
            "orientation": "horizontal",
            "style": "IPY_MODEL_b67c6d4fbd6d44c4aee706a7d14f0df4",
            "value": 1648877
          }
        },
        "ec7ef8e4ab634acaa30512d9b111bfad": {
          "model_module": "@jupyter-widgets/controls",
          "model_name": "HTMLModel",
          "model_module_version": "1.5.0",
          "state": {
            "_dom_classes": [],
            "_model_module": "@jupyter-widgets/controls",
            "_model_module_version": "1.5.0",
            "_model_name": "HTMLModel",
            "_view_count": null,
            "_view_module": "@jupyter-widgets/controls",
            "_view_module_version": "1.5.0",
            "_view_name": "HTMLView",
            "description": "",
            "description_tooltip": null,
            "layout": "IPY_MODEL_d97b761f21e947c2befb6b850a64bb2f",
            "placeholder": "​",
            "style": "IPY_MODEL_ebb254e849f343c69ee19a3621e08a30",
            "value": " 1648877/1648877 [00:00&lt;00:00, 24766659.01it/s]"
          }
        },
        "f0b4035d681e4c588f5ef32f414804f4": {
          "model_module": "@jupyter-widgets/base",
          "model_name": "LayoutModel",
          "model_module_version": "1.2.0",
          "state": {
            "_model_module": "@jupyter-widgets/base",
            "_model_module_version": "1.2.0",
            "_model_name": "LayoutModel",
            "_view_count": null,
            "_view_module": "@jupyter-widgets/base",
            "_view_module_version": "1.2.0",
            "_view_name": "LayoutView",
            "align_content": null,
            "align_items": null,
            "align_self": null,
            "border": null,
            "bottom": null,
            "display": null,
            "flex": null,
            "flex_flow": null,
            "grid_area": null,
            "grid_auto_columns": null,
            "grid_auto_flow": null,
            "grid_auto_rows": null,
            "grid_column": null,
            "grid_gap": null,
            "grid_row": null,
            "grid_template_areas": null,
            "grid_template_columns": null,
            "grid_template_rows": null,
            "height": null,
            "justify_content": null,
            "justify_items": null,
            "left": null,
            "margin": null,
            "max_height": null,
            "max_width": null,
            "min_height": null,
            "min_width": null,
            "object_fit": null,
            "object_position": null,
            "order": null,
            "overflow": null,
            "overflow_x": null,
            "overflow_y": null,
            "padding": null,
            "right": null,
            "top": null,
            "visibility": null,
            "width": null
          }
        },
        "343ac60b24284962a9c9f980eea792fb": {
          "model_module": "@jupyter-widgets/base",
          "model_name": "LayoutModel",
          "model_module_version": "1.2.0",
          "state": {
            "_model_module": "@jupyter-widgets/base",
            "_model_module_version": "1.2.0",
            "_model_name": "LayoutModel",
            "_view_count": null,
            "_view_module": "@jupyter-widgets/base",
            "_view_module_version": "1.2.0",
            "_view_name": "LayoutView",
            "align_content": null,
            "align_items": null,
            "align_self": null,
            "border": null,
            "bottom": null,
            "display": null,
            "flex": null,
            "flex_flow": null,
            "grid_area": null,
            "grid_auto_columns": null,
            "grid_auto_flow": null,
            "grid_auto_rows": null,
            "grid_column": null,
            "grid_gap": null,
            "grid_row": null,
            "grid_template_areas": null,
            "grid_template_columns": null,
            "grid_template_rows": null,
            "height": null,
            "justify_content": null,
            "justify_items": null,
            "left": null,
            "margin": null,
            "max_height": null,
            "max_width": null,
            "min_height": null,
            "min_width": null,
            "object_fit": null,
            "object_position": null,
            "order": null,
            "overflow": null,
            "overflow_x": null,
            "overflow_y": null,
            "padding": null,
            "right": null,
            "top": null,
            "visibility": null,
            "width": null
          }
        },
        "4cfa45518334480887e90515a667ad4a": {
          "model_module": "@jupyter-widgets/controls",
          "model_name": "DescriptionStyleModel",
          "model_module_version": "1.5.0",
          "state": {
            "_model_module": "@jupyter-widgets/controls",
            "_model_module_version": "1.5.0",
            "_model_name": "DescriptionStyleModel",
            "_view_count": null,
            "_view_module": "@jupyter-widgets/base",
            "_view_module_version": "1.2.0",
            "_view_name": "StyleView",
            "description_width": ""
          }
        },
        "a6423c8e73a348d0aa5bac355c07df65": {
          "model_module": "@jupyter-widgets/base",
          "model_name": "LayoutModel",
          "model_module_version": "1.2.0",
          "state": {
            "_model_module": "@jupyter-widgets/base",
            "_model_module_version": "1.2.0",
            "_model_name": "LayoutModel",
            "_view_count": null,
            "_view_module": "@jupyter-widgets/base",
            "_view_module_version": "1.2.0",
            "_view_name": "LayoutView",
            "align_content": null,
            "align_items": null,
            "align_self": null,
            "border": null,
            "bottom": null,
            "display": null,
            "flex": null,
            "flex_flow": null,
            "grid_area": null,
            "grid_auto_columns": null,
            "grid_auto_flow": null,
            "grid_auto_rows": null,
            "grid_column": null,
            "grid_gap": null,
            "grid_row": null,
            "grid_template_areas": null,
            "grid_template_columns": null,
            "grid_template_rows": null,
            "height": null,
            "justify_content": null,
            "justify_items": null,
            "left": null,
            "margin": null,
            "max_height": null,
            "max_width": null,
            "min_height": null,
            "min_width": null,
            "object_fit": null,
            "object_position": null,
            "order": null,
            "overflow": null,
            "overflow_x": null,
            "overflow_y": null,
            "padding": null,
            "right": null,
            "top": null,
            "visibility": null,
            "width": null
          }
        },
        "b67c6d4fbd6d44c4aee706a7d14f0df4": {
          "model_module": "@jupyter-widgets/controls",
          "model_name": "ProgressStyleModel",
          "model_module_version": "1.5.0",
          "state": {
            "_model_module": "@jupyter-widgets/controls",
            "_model_module_version": "1.5.0",
            "_model_name": "ProgressStyleModel",
            "_view_count": null,
            "_view_module": "@jupyter-widgets/base",
            "_view_module_version": "1.2.0",
            "_view_name": "StyleView",
            "bar_color": null,
            "description_width": ""
          }
        },
        "d97b761f21e947c2befb6b850a64bb2f": {
          "model_module": "@jupyter-widgets/base",
          "model_name": "LayoutModel",
          "model_module_version": "1.2.0",
          "state": {
            "_model_module": "@jupyter-widgets/base",
            "_model_module_version": "1.2.0",
            "_model_name": "LayoutModel",
            "_view_count": null,
            "_view_module": "@jupyter-widgets/base",
            "_view_module_version": "1.2.0",
            "_view_name": "LayoutView",
            "align_content": null,
            "align_items": null,
            "align_self": null,
            "border": null,
            "bottom": null,
            "display": null,
            "flex": null,
            "flex_flow": null,
            "grid_area": null,
            "grid_auto_columns": null,
            "grid_auto_flow": null,
            "grid_auto_rows": null,
            "grid_column": null,
            "grid_gap": null,
            "grid_row": null,
            "grid_template_areas": null,
            "grid_template_columns": null,
            "grid_template_rows": null,
            "height": null,
            "justify_content": null,
            "justify_items": null,
            "left": null,
            "margin": null,
            "max_height": null,
            "max_width": null,
            "min_height": null,
            "min_width": null,
            "object_fit": null,
            "object_position": null,
            "order": null,
            "overflow": null,
            "overflow_x": null,
            "overflow_y": null,
            "padding": null,
            "right": null,
            "top": null,
            "visibility": null,
            "width": null
          }
        },
        "ebb254e849f343c69ee19a3621e08a30": {
          "model_module": "@jupyter-widgets/controls",
          "model_name": "DescriptionStyleModel",
          "model_module_version": "1.5.0",
          "state": {
            "_model_module": "@jupyter-widgets/controls",
            "_model_module_version": "1.5.0",
            "_model_name": "DescriptionStyleModel",
            "_view_count": null,
            "_view_module": "@jupyter-widgets/base",
            "_view_module_version": "1.2.0",
            "_view_name": "StyleView",
            "description_width": ""
          }
        },
        "af59aefb28aa4dc39460415762d93bc5": {
          "model_module": "@jupyter-widgets/controls",
          "model_name": "HBoxModel",
          "model_module_version": "1.5.0",
          "state": {
            "_dom_classes": [],
            "_model_module": "@jupyter-widgets/controls",
            "_model_module_version": "1.5.0",
            "_model_name": "HBoxModel",
            "_view_count": null,
            "_view_module": "@jupyter-widgets/controls",
            "_view_module_version": "1.5.0",
            "_view_name": "HBoxView",
            "box_style": "",
            "children": [
              "IPY_MODEL_500737a1c64f414c9eb6c1d0386c1ca1",
              "IPY_MODEL_bb1a3848b02d4c6686b81c5115afe02a",
              "IPY_MODEL_d65a279e9cd74373aa58666108777e18"
            ],
            "layout": "IPY_MODEL_3e34b27b312640db9eb800e62f51c5ba"
          }
        },
        "500737a1c64f414c9eb6c1d0386c1ca1": {
          "model_module": "@jupyter-widgets/controls",
          "model_name": "HTMLModel",
          "model_module_version": "1.5.0",
          "state": {
            "_dom_classes": [],
            "_model_module": "@jupyter-widgets/controls",
            "_model_module_version": "1.5.0",
            "_model_name": "HTMLModel",
            "_view_count": null,
            "_view_module": "@jupyter-widgets/controls",
            "_view_module_version": "1.5.0",
            "_view_name": "HTMLView",
            "description": "",
            "description_tooltip": null,
            "layout": "IPY_MODEL_1de0db7afd294ac281b4fad9dd75730f",
            "placeholder": "​",
            "style": "IPY_MODEL_d3f82a438949435ab8e5853a8dde3c2b",
            "value": "100%"
          }
        },
        "bb1a3848b02d4c6686b81c5115afe02a": {
          "model_module": "@jupyter-widgets/controls",
          "model_name": "FloatProgressModel",
          "model_module_version": "1.5.0",
          "state": {
            "_dom_classes": [],
            "_model_module": "@jupyter-widgets/controls",
            "_model_module_version": "1.5.0",
            "_model_name": "FloatProgressModel",
            "_view_count": null,
            "_view_module": "@jupyter-widgets/controls",
            "_view_module_version": "1.5.0",
            "_view_name": "ProgressView",
            "bar_style": "success",
            "description": "",
            "description_tooltip": null,
            "layout": "IPY_MODEL_99754d0bd86540dfaf9fe54b118c9f34",
            "max": 4542,
            "min": 0,
            "orientation": "horizontal",
            "style": "IPY_MODEL_487aac0b2ae046a79d511afd96b904fd",
            "value": 4542
          }
        },
        "d65a279e9cd74373aa58666108777e18": {
          "model_module": "@jupyter-widgets/controls",
          "model_name": "HTMLModel",
          "model_module_version": "1.5.0",
          "state": {
            "_dom_classes": [],
            "_model_module": "@jupyter-widgets/controls",
            "_model_module_version": "1.5.0",
            "_model_name": "HTMLModel",
            "_view_count": null,
            "_view_module": "@jupyter-widgets/controls",
            "_view_module_version": "1.5.0",
            "_view_name": "HTMLView",
            "description": "",
            "description_tooltip": null,
            "layout": "IPY_MODEL_7216184af70643c0bf81b73dc4c44bb7",
            "placeholder": "​",
            "style": "IPY_MODEL_b23fcecc064b4968ad2e09136966f071",
            "value": " 4542/4542 [00:00&lt;00:00, 213107.47it/s]"
          }
        },
        "3e34b27b312640db9eb800e62f51c5ba": {
          "model_module": "@jupyter-widgets/base",
          "model_name": "LayoutModel",
          "model_module_version": "1.2.0",
          "state": {
            "_model_module": "@jupyter-widgets/base",
            "_model_module_version": "1.2.0",
            "_model_name": "LayoutModel",
            "_view_count": null,
            "_view_module": "@jupyter-widgets/base",
            "_view_module_version": "1.2.0",
            "_view_name": "LayoutView",
            "align_content": null,
            "align_items": null,
            "align_self": null,
            "border": null,
            "bottom": null,
            "display": null,
            "flex": null,
            "flex_flow": null,
            "grid_area": null,
            "grid_auto_columns": null,
            "grid_auto_flow": null,
            "grid_auto_rows": null,
            "grid_column": null,
            "grid_gap": null,
            "grid_row": null,
            "grid_template_areas": null,
            "grid_template_columns": null,
            "grid_template_rows": null,
            "height": null,
            "justify_content": null,
            "justify_items": null,
            "left": null,
            "margin": null,
            "max_height": null,
            "max_width": null,
            "min_height": null,
            "min_width": null,
            "object_fit": null,
            "object_position": null,
            "order": null,
            "overflow": null,
            "overflow_x": null,
            "overflow_y": null,
            "padding": null,
            "right": null,
            "top": null,
            "visibility": null,
            "width": null
          }
        },
        "1de0db7afd294ac281b4fad9dd75730f": {
          "model_module": "@jupyter-widgets/base",
          "model_name": "LayoutModel",
          "model_module_version": "1.2.0",
          "state": {
            "_model_module": "@jupyter-widgets/base",
            "_model_module_version": "1.2.0",
            "_model_name": "LayoutModel",
            "_view_count": null,
            "_view_module": "@jupyter-widgets/base",
            "_view_module_version": "1.2.0",
            "_view_name": "LayoutView",
            "align_content": null,
            "align_items": null,
            "align_self": null,
            "border": null,
            "bottom": null,
            "display": null,
            "flex": null,
            "flex_flow": null,
            "grid_area": null,
            "grid_auto_columns": null,
            "grid_auto_flow": null,
            "grid_auto_rows": null,
            "grid_column": null,
            "grid_gap": null,
            "grid_row": null,
            "grid_template_areas": null,
            "grid_template_columns": null,
            "grid_template_rows": null,
            "height": null,
            "justify_content": null,
            "justify_items": null,
            "left": null,
            "margin": null,
            "max_height": null,
            "max_width": null,
            "min_height": null,
            "min_width": null,
            "object_fit": null,
            "object_position": null,
            "order": null,
            "overflow": null,
            "overflow_x": null,
            "overflow_y": null,
            "padding": null,
            "right": null,
            "top": null,
            "visibility": null,
            "width": null
          }
        },
        "d3f82a438949435ab8e5853a8dde3c2b": {
          "model_module": "@jupyter-widgets/controls",
          "model_name": "DescriptionStyleModel",
          "model_module_version": "1.5.0",
          "state": {
            "_model_module": "@jupyter-widgets/controls",
            "_model_module_version": "1.5.0",
            "_model_name": "DescriptionStyleModel",
            "_view_count": null,
            "_view_module": "@jupyter-widgets/base",
            "_view_module_version": "1.2.0",
            "_view_name": "StyleView",
            "description_width": ""
          }
        },
        "99754d0bd86540dfaf9fe54b118c9f34": {
          "model_module": "@jupyter-widgets/base",
          "model_name": "LayoutModel",
          "model_module_version": "1.2.0",
          "state": {
            "_model_module": "@jupyter-widgets/base",
            "_model_module_version": "1.2.0",
            "_model_name": "LayoutModel",
            "_view_count": null,
            "_view_module": "@jupyter-widgets/base",
            "_view_module_version": "1.2.0",
            "_view_name": "LayoutView",
            "align_content": null,
            "align_items": null,
            "align_self": null,
            "border": null,
            "bottom": null,
            "display": null,
            "flex": null,
            "flex_flow": null,
            "grid_area": null,
            "grid_auto_columns": null,
            "grid_auto_flow": null,
            "grid_auto_rows": null,
            "grid_column": null,
            "grid_gap": null,
            "grid_row": null,
            "grid_template_areas": null,
            "grid_template_columns": null,
            "grid_template_rows": null,
            "height": null,
            "justify_content": null,
            "justify_items": null,
            "left": null,
            "margin": null,
            "max_height": null,
            "max_width": null,
            "min_height": null,
            "min_width": null,
            "object_fit": null,
            "object_position": null,
            "order": null,
            "overflow": null,
            "overflow_x": null,
            "overflow_y": null,
            "padding": null,
            "right": null,
            "top": null,
            "visibility": null,
            "width": null
          }
        },
        "487aac0b2ae046a79d511afd96b904fd": {
          "model_module": "@jupyter-widgets/controls",
          "model_name": "ProgressStyleModel",
          "model_module_version": "1.5.0",
          "state": {
            "_model_module": "@jupyter-widgets/controls",
            "_model_module_version": "1.5.0",
            "_model_name": "ProgressStyleModel",
            "_view_count": null,
            "_view_module": "@jupyter-widgets/base",
            "_view_module_version": "1.2.0",
            "_view_name": "StyleView",
            "bar_color": null,
            "description_width": ""
          }
        },
        "7216184af70643c0bf81b73dc4c44bb7": {
          "model_module": "@jupyter-widgets/base",
          "model_name": "LayoutModel",
          "model_module_version": "1.2.0",
          "state": {
            "_model_module": "@jupyter-widgets/base",
            "_model_module_version": "1.2.0",
            "_model_name": "LayoutModel",
            "_view_count": null,
            "_view_module": "@jupyter-widgets/base",
            "_view_module_version": "1.2.0",
            "_view_name": "LayoutView",
            "align_content": null,
            "align_items": null,
            "align_self": null,
            "border": null,
            "bottom": null,
            "display": null,
            "flex": null,
            "flex_flow": null,
            "grid_area": null,
            "grid_auto_columns": null,
            "grid_auto_flow": null,
            "grid_auto_rows": null,
            "grid_column": null,
            "grid_gap": null,
            "grid_row": null,
            "grid_template_areas": null,
            "grid_template_columns": null,
            "grid_template_rows": null,
            "height": null,
            "justify_content": null,
            "justify_items": null,
            "left": null,
            "margin": null,
            "max_height": null,
            "max_width": null,
            "min_height": null,
            "min_width": null,
            "object_fit": null,
            "object_position": null,
            "order": null,
            "overflow": null,
            "overflow_x": null,
            "overflow_y": null,
            "padding": null,
            "right": null,
            "top": null,
            "visibility": null,
            "width": null
          }
        },
        "b23fcecc064b4968ad2e09136966f071": {
          "model_module": "@jupyter-widgets/controls",
          "model_name": "DescriptionStyleModel",
          "model_module_version": "1.5.0",
          "state": {
            "_model_module": "@jupyter-widgets/controls",
            "_model_module_version": "1.5.0",
            "_model_name": "DescriptionStyleModel",
            "_view_count": null,
            "_view_module": "@jupyter-widgets/base",
            "_view_module_version": "1.2.0",
            "_view_name": "StyleView",
            "description_width": ""
          }
        }
      }
    }
  },
  "cells": [
    {
      "cell_type": "markdown",
      "metadata": {
        "id": "TdpPHz2Lp6VD"
      },
      "source": [
        "# TP Coding autoencoders and variational autoencoders in Pytorch\n",
        "\n",
        "\n",
        "Author : Alasdair Newson\n",
        "\n",
        "alasdair.newson@telecom-paris.fr\n",
        "\n",
        "## Objective:\n",
        "\n",
        "The goal of this TP is to explore autoencoders and variational autoencoders applied to a simple dataset. In this first part, we will look at an autoencoder applied to MNIST. We recall that an autoencoder is a neural network with the following general architecture:\n",
        "\n",
        "\n",
        "![AUTOENCODER](https://perso.telecom-paristech.fr/anewson/doc/images/autoencoder_illustration_2.png)\n",
        "\n",
        "The tensor $z$ in the middle of the network is called a __latent code__, and it belongs to the latent space. It is this latent space which is interesting in autoencoders (for image synthesis, editing, etc).\n",
        "\n",
        "### Your task:\n",
        "You need to add the missing parts in the code (parts between # --- START CODE HERE and # --- END CODE HERE or # FILL IN CODE)\n",
        "\n",
        "\n",
        "First of all, let's load some packages"
      ]
    },
    {
      "cell_type": "code",
      "metadata": {
        "id": "JqNeIJ8Op8Ao"
      },
      "source": [
        "import torch\n",
        "import torch.nn as nn\n",
        "import torch.nn.functional as F\n",
        "import torch.optim as optim\n",
        "from torchvision import datasets, transforms\n",
        "from torch.autograd import Variable\n",
        "from torchvision.utils import save_image\n",
        "\n",
        "import pdb\n",
        "import numpy as np\n",
        "import matplotlib.pyplot as plt\n",
        "\n",
        "def pytorch_to_numpy(x):\n",
        "  return x.detach().numpy()"
      ],
      "execution_count": 1,
      "outputs": []
    },
    {
      "cell_type": "markdown",
      "metadata": {
        "id": "Hyj5dj_eui9D"
      },
      "source": [
        "First, we load the mnist dataset."
      ]
    },
    {
      "cell_type": "code",
      "metadata": {
        "id": "4YPLKlPrufSk",
        "colab": {
          "base_uri": "https://localhost:8080/",
          "height": 432,
          "referenced_widgets": [
            "ae6127e48b7843f8b2b2c9f6600bf02a",
            "04c6f7c907834284a8fcaf341a6727a7",
            "644ae6cc58904cc28c38c93057db4956",
            "da94bac55ca84cab9accfdfe9374c954",
            "4ad1ce2a697e4b5f85b813a8beb74aa4",
            "a034256e676945f9a46a5359cc897b42",
            "e872f6ded70341379a44e27f3af7fd33",
            "bd349dd07b89466096687fe199f8093e",
            "01e58aa83d884872a22e50421f9be981",
            "da58340267c640b4b818aea4db985887",
            "4bf7f058d81345e596af79e6b4b137d4",
            "da81569bfe504e358e4f5d34736a8423",
            "6d157301b04d4827804a82a83f31dee1",
            "1bedc5636c8e444595f206c27bf2c088",
            "f39c08f956ff471493444052a4103840",
            "a79864405a274d05a966d9b29d698778",
            "00acb36cfac242259671edb41a5f2b4f",
            "bf2c1997bd6c44bdb15416640d34cf25",
            "9ec95de8125d48d49ff7b8bdeaeade1d",
            "a7632faf4e134d758a1646e79d330b92",
            "1560e317105b430283c693ab493046a5",
            "cc48848da79a4c9ca48bd942951f42b1",
            "b31993bccd6347e6bc173867487cc131",
            "2dcc8066f6a04155a470af0c8432249e",
            "4a43b8a4d6c94b13a418ffd4820c5104",
            "ec7ef8e4ab634acaa30512d9b111bfad",
            "f0b4035d681e4c588f5ef32f414804f4",
            "343ac60b24284962a9c9f980eea792fb",
            "4cfa45518334480887e90515a667ad4a",
            "a6423c8e73a348d0aa5bac355c07df65",
            "b67c6d4fbd6d44c4aee706a7d14f0df4",
            "d97b761f21e947c2befb6b850a64bb2f",
            "ebb254e849f343c69ee19a3621e08a30",
            "af59aefb28aa4dc39460415762d93bc5",
            "500737a1c64f414c9eb6c1d0386c1ca1",
            "bb1a3848b02d4c6686b81c5115afe02a",
            "d65a279e9cd74373aa58666108777e18",
            "3e34b27b312640db9eb800e62f51c5ba",
            "1de0db7afd294ac281b4fad9dd75730f",
            "d3f82a438949435ab8e5853a8dde3c2b",
            "99754d0bd86540dfaf9fe54b118c9f34",
            "487aac0b2ae046a79d511afd96b904fd",
            "7216184af70643c0bf81b73dc4c44bb7",
            "b23fcecc064b4968ad2e09136966f071"
          ]
        },
        "outputId": "fa4e2f4a-9668-4a7f-de1d-33409e43fea5"
      },
      "source": [
        "\n",
        "batch_size = 128\n",
        "\n",
        "# MNIST Dataset\n",
        "mnist_trainset = datasets.MNIST(root='./mnist_data/', train=True, transform=transforms.ToTensor(), download=True)\n",
        "mnist_testset = datasets.MNIST(root='./mnist_data/', train=False, transform=transforms.ToTensor(), download=False)\n",
        "\n",
        "#create data loader with smaller dataset size\n",
        "max_mnist_size = 1000\n",
        "mnist_trainset_reduced = torch.utils.data.random_split(mnist_trainset, [max_mnist_size, len(mnist_trainset)-max_mnist_size])[0] \n",
        "mnist_train_loader = torch.utils.data.DataLoader(mnist_trainset_reduced, batch_size=batch_size, shuffle=True,drop_last=True)\n",
        "\n",
        "# download test dataset\n",
        "max_mnist_size = 512\n",
        "mnist_testset_reduced = torch.utils.data.random_split(mnist_testset, [max_mnist_size, len(mnist_testset)-max_mnist_size])[0] \n",
        "mnist_test_loader = torch.utils.data.DataLoader(mnist_testset_reduced, batch_size=batch_size, shuffle=True,drop_last=True)\n"
      ],
      "execution_count": 2,
      "outputs": [
        {
          "output_type": "stream",
          "name": "stdout",
          "text": [
            "Downloading http://yann.lecun.com/exdb/mnist/train-images-idx3-ubyte.gz\n",
            "Downloading http://yann.lecun.com/exdb/mnist/train-images-idx3-ubyte.gz to ./mnist_data/MNIST/raw/train-images-idx3-ubyte.gz\n"
          ]
        },
        {
          "output_type": "display_data",
          "data": {
            "text/plain": [
              "  0%|          | 0/9912422 [00:00<?, ?it/s]"
            ],
            "application/vnd.jupyter.widget-view+json": {
              "version_major": 2,
              "version_minor": 0,
              "model_id": "ae6127e48b7843f8b2b2c9f6600bf02a"
            }
          },
          "metadata": {}
        },
        {
          "output_type": "stream",
          "name": "stdout",
          "text": [
            "Extracting ./mnist_data/MNIST/raw/train-images-idx3-ubyte.gz to ./mnist_data/MNIST/raw\n",
            "\n",
            "Downloading http://yann.lecun.com/exdb/mnist/train-labels-idx1-ubyte.gz\n",
            "Downloading http://yann.lecun.com/exdb/mnist/train-labels-idx1-ubyte.gz to ./mnist_data/MNIST/raw/train-labels-idx1-ubyte.gz\n"
          ]
        },
        {
          "output_type": "display_data",
          "data": {
            "text/plain": [
              "  0%|          | 0/28881 [00:00<?, ?it/s]"
            ],
            "application/vnd.jupyter.widget-view+json": {
              "version_major": 2,
              "version_minor": 0,
              "model_id": "da81569bfe504e358e4f5d34736a8423"
            }
          },
          "metadata": {}
        },
        {
          "output_type": "stream",
          "name": "stdout",
          "text": [
            "Extracting ./mnist_data/MNIST/raw/train-labels-idx1-ubyte.gz to ./mnist_data/MNIST/raw\n",
            "\n",
            "Downloading http://yann.lecun.com/exdb/mnist/t10k-images-idx3-ubyte.gz\n",
            "Downloading http://yann.lecun.com/exdb/mnist/t10k-images-idx3-ubyte.gz to ./mnist_data/MNIST/raw/t10k-images-idx3-ubyte.gz\n"
          ]
        },
        {
          "output_type": "display_data",
          "data": {
            "text/plain": [
              "  0%|          | 0/1648877 [00:00<?, ?it/s]"
            ],
            "application/vnd.jupyter.widget-view+json": {
              "version_major": 2,
              "version_minor": 0,
              "model_id": "b31993bccd6347e6bc173867487cc131"
            }
          },
          "metadata": {}
        },
        {
          "output_type": "stream",
          "name": "stdout",
          "text": [
            "Extracting ./mnist_data/MNIST/raw/t10k-images-idx3-ubyte.gz to ./mnist_data/MNIST/raw\n",
            "\n",
            "Downloading http://yann.lecun.com/exdb/mnist/t10k-labels-idx1-ubyte.gz\n",
            "Downloading http://yann.lecun.com/exdb/mnist/t10k-labels-idx1-ubyte.gz to ./mnist_data/MNIST/raw/t10k-labels-idx1-ubyte.gz\n"
          ]
        },
        {
          "output_type": "display_data",
          "data": {
            "text/plain": [
              "  0%|          | 0/4542 [00:00<?, ?it/s]"
            ],
            "application/vnd.jupyter.widget-view+json": {
              "version_major": 2,
              "version_minor": 0,
              "model_id": "af59aefb28aa4dc39460415762d93bc5"
            }
          },
          "metadata": {}
        },
        {
          "output_type": "stream",
          "name": "stdout",
          "text": [
            "Extracting ./mnist_data/MNIST/raw/t10k-labels-idx1-ubyte.gz to ./mnist_data/MNIST/raw\n",
            "\n"
          ]
        }
      ]
    },
    {
      "cell_type": "code",
      "source": [
        "mnist_trainset_reduced.dataset.train_data.shape"
      ],
      "metadata": {
        "id": "r7YhlBT2PN9I",
        "colab": {
          "base_uri": "https://localhost:8080/"
        },
        "outputId": "db0406dc-7501-4bce-d98c-e7b677422dea"
      },
      "execution_count": 3,
      "outputs": [
        {
          "output_type": "stream",
          "name": "stderr",
          "text": [
            "/usr/local/lib/python3.9/dist-packages/torchvision/datasets/mnist.py:75: UserWarning: train_data has been renamed data\n",
            "  warnings.warn(\"train_data has been renamed data\")\n"
          ]
        },
        {
          "output_type": "execute_result",
          "data": {
            "text/plain": [
              "torch.Size([60000, 28, 28])"
            ]
          },
          "metadata": {},
          "execution_count": 3
        }
      ]
    },
    {
      "cell_type": "markdown",
      "metadata": {
        "id": "t-bkK4ktwfvC"
      },
      "source": [
        "# 1 Vanilla Autoencoder\n",
        "\n",
        "Now, we define the general parameters of the autoencoder"
      ]
    },
    {
      "cell_type": "code",
      "metadata": {
        "id": "mD56EDzbvUxq"
      },
      "source": [
        "# autoencoder parameters\n",
        "n_rows = mnist_trainset_reduced.dataset.train_data.shape[1]\n",
        "n_cols = mnist_trainset_reduced.dataset.train_data.shape[2]\n",
        "n_channels = 1\n",
        "n_pixels = n_rows*n_cols\n",
        "\n",
        "img_shape = (n_rows, n_cols, n_channels)\n",
        "n_epochs = 150"
      ],
      "execution_count": 4,
      "outputs": []
    },
    {
      "cell_type": "markdown",
      "metadata": {
        "id": "6jLa2-jQwxSI"
      },
      "source": [
        "Now, define the autoencoder architecture. In the first part, we will use the following MLP architecture :\n",
        "\n",
        "Encoder :\n",
        "- Flatten input\n",
        "- Dense layer, output size h_dim_1 + ReLU\n",
        "- Dense layer, output size h_dim_2 + ReLU\n",
        "- Dense layer, output size z_dim (no non-linearity)\n",
        "\n",
        "Decoder :\n",
        "- Dense layer, output size h_dim_2 + ReLU\n",
        "- Dense layer, output size h_dim_1 + ReLU\n",
        "- Dense layer, output size x_dim + Sigmoid Activation\n",
        "- Reshape, to size $28\\times 28\\times 1$\n",
        "\n",
        "For the Reshape operation, use the ```A.view(dim_1,dim_2,...)``` function, where ```A``` is your tensor."
      ]
    },
    {
      "cell_type": "code",
      "source": [
        "class AE(torch.nn.Module):\n",
        "    def __init__(self, x_dim, h_dim1, h_dim2, z_dim, n_rows, n_cols, n_channels):\n",
        "        super(AE, self).__init__()\n",
        "\n",
        "        self.n_rows = n_rows\n",
        "        self.n_cols = n_cols\n",
        "        self.n_channels = n_channels\n",
        "        self.n_pixels = self.n_rows * self.n_cols * self.n_channels\n",
        "        self.z_dim = z_dim\n",
        "\n",
        "        # encoder part\n",
        "        self.fc1 = nn.Linear(self.n_pixels, h_dim1)\n",
        "        self.fc2 = nn.Linear(h_dim1, h_dim2)\n",
        "        self.fc3 = nn.Linear(h_dim2, z_dim)\n",
        "        # decoder part\n",
        "        self.fc4 = nn.Linear(z_dim, h_dim2)\n",
        "        self.fc5 = nn.Linear(h_dim2, h_dim1)\n",
        "        self.fc6 = nn.Linear(h_dim1, self.n_pixels)\n",
        "\n",
        "    def encoder(self, x):\n",
        "        h = F.relu(self.fc1(x.view(-1, self.n_pixels))) \n",
        "        h = F.relu(self.fc2(h))\n",
        "        return self.fc3(h)\n",
        "\n",
        "    def decoder(self, z):\n",
        "        h = F.relu(self.fc4(z))  \n",
        "        h = F.sigmoid(self.fc6(F.relu(self.fc5(h))))  \n",
        "        return h.view(-1, 1, 28, 28)\n",
        "\n",
        "\n",
        "    def forward(self, x):\n",
        "        x = x.view(-1, self.n_pixels)\n",
        "        z = self.encoder(x)\n",
        "        y = self.decoder(z)\n",
        "        return y.view(-1, self.n_channels, self.n_rows, self.n_cols)\n",
        "\n",
        "    def loss_function(self, x, y):\n",
        "        bce_loss = F.binary_cross_entropy(y, x, reduction='none')\n",
        "        return torch.mean(bce_loss)\n"
      ],
      "metadata": {
        "id": "tEuZfnUlXxMl"
      },
      "execution_count": 30,
      "outputs": []
    },
    {
      "cell_type": "code",
      "source": [
        "# create model\n",
        "ae_dim_1 = 512\n",
        "ae_dim_2 = 256\n",
        "z_dim = 10\n",
        "ae_model = AE(x_dim=n_pixels, h_dim1= ae_dim_1, h_dim2=ae_dim_2, z_dim=z_dim,n_rows=n_rows,n_cols=n_cols,n_channels=n_channels)\n",
        "ae_optimizer = optim.Adam(ae_model.parameters())"
      ],
      "metadata": {
        "id": "oV40vRMQRoG1"
      },
      "execution_count": 31,
      "outputs": []
    },
    {
      "cell_type": "markdown",
      "metadata": {
        "id": "-659aM36xvXX"
      },
      "source": [
        "Now, define a generic function to train the model for one epoch"
      ]
    },
    {
      "cell_type": "code",
      "metadata": {
        "id": "wfqX6Brlxjyi"
      },
      "source": [
        "def train_ae(ae_model, data_train_loader, epoch):\n",
        "\ttrain_loss = 0\n",
        "\tfor batch_idx, (data, _) in enumerate(data_train_loader):\n",
        "\t\t\tae_optimizer.zero_grad()\n",
        "\n",
        "\t\t\ty = ae_model(data)  # Forward pass through the autoencoder\n",
        "\t\t\tloss_ae = ae_model.loss_function(data, y)  # Compute the loss\n",
        "\n",
        "\t\t\tloss_ae.backward()  # Backward pass to compute gradients\n",
        "\t\t\ttrain_loss += loss_ae.item()\n",
        "\t\t\tae_optimizer.step()\n",
        "\n",
        "\t\t\tif batch_idx % 100 == 0:\n",
        "\t\t\t\t\tprint('Train Epoch: {} [{}/{} ({:.0f}%)]\\tLoss: {:.6f}'.format(\n",
        "\t\t\t\t\t\t\tepoch, batch_idx * len(data), len(data_train_loader.dataset),\n",
        "\t\t\t\t\t\t\t100. * batch_idx / len(data_train_loader), loss_ae.item() / len(data)))\n",
        "\tprint('====> Epoch: {} Average loss: {:.4f}'.format(epoch, train_loss / len(data_train_loader.dataset)))\n"
      ],
      "execution_count": 32,
      "outputs": []
    },
    {
      "cell_type": "markdown",
      "metadata": {
        "id": "w3EbmswSzJdK"
      },
      "source": [
        "We define a function to carry out testing on the autoencoder model"
      ]
    },
    {
      "cell_type": "code",
      "source": [
        "for epoch in range(0, n_epochs):\n",
        "  train_ae(ae_model,mnist_train_loader,epoch)"
      ],
      "metadata": {
        "id": "11q_0PSibZk-",
        "colab": {
          "base_uri": "https://localhost:8080/"
        },
        "outputId": "520f0304-84e3-4485-f7a0-274e97968e95"
      },
      "execution_count": 33,
      "outputs": [
        {
          "output_type": "stream",
          "name": "stderr",
          "text": [
            "/usr/local/lib/python3.9/dist-packages/torch/nn/functional.py:1967: UserWarning: nn.functional.sigmoid is deprecated. Use torch.sigmoid instead.\n",
            "  warnings.warn(\"nn.functional.sigmoid is deprecated. Use torch.sigmoid instead.\")\n"
          ]
        },
        {
          "output_type": "stream",
          "name": "stdout",
          "text": [
            "Train Epoch: 0 [0/1000 (0%)]\tLoss: 0.005420\n",
            "====> Epoch: 0 Average loss: 0.0043\n",
            "Train Epoch: 1 [0/1000 (0%)]\tLoss: 0.003067\n",
            "====> Epoch: 1 Average loss: 0.0024\n",
            "Train Epoch: 2 [0/1000 (0%)]\tLoss: 0.002277\n",
            "====> Epoch: 2 Average loss: 0.0021\n",
            "Train Epoch: 3 [0/1000 (0%)]\tLoss: 0.002166\n",
            "====> Epoch: 3 Average loss: 0.0019\n",
            "Train Epoch: 4 [0/1000 (0%)]\tLoss: 0.002096\n",
            "====> Epoch: 4 Average loss: 0.0019\n",
            "Train Epoch: 5 [0/1000 (0%)]\tLoss: 0.002112\n",
            "====> Epoch: 5 Average loss: 0.0018\n",
            "Train Epoch: 6 [0/1000 (0%)]\tLoss: 0.002033\n",
            "====> Epoch: 6 Average loss: 0.0018\n",
            "Train Epoch: 7 [0/1000 (0%)]\tLoss: 0.001972\n",
            "====> Epoch: 7 Average loss: 0.0018\n",
            "Train Epoch: 8 [0/1000 (0%)]\tLoss: 0.001884\n",
            "====> Epoch: 8 Average loss: 0.0018\n",
            "Train Epoch: 9 [0/1000 (0%)]\tLoss: 0.001881\n",
            "====> Epoch: 9 Average loss: 0.0017\n",
            "Train Epoch: 10 [0/1000 (0%)]\tLoss: 0.001890\n",
            "====> Epoch: 10 Average loss: 0.0017\n",
            "Train Epoch: 11 [0/1000 (0%)]\tLoss: 0.001836\n",
            "====> Epoch: 11 Average loss: 0.0017\n",
            "Train Epoch: 12 [0/1000 (0%)]\tLoss: 0.001908\n",
            "====> Epoch: 12 Average loss: 0.0016\n",
            "Train Epoch: 13 [0/1000 (0%)]\tLoss: 0.001822\n",
            "====> Epoch: 13 Average loss: 0.0016\n",
            "Train Epoch: 14 [0/1000 (0%)]\tLoss: 0.001763\n",
            "====> Epoch: 14 Average loss: 0.0016\n",
            "Train Epoch: 15 [0/1000 (0%)]\tLoss: 0.001775\n",
            "====> Epoch: 15 Average loss: 0.0015\n",
            "Train Epoch: 16 [0/1000 (0%)]\tLoss: 0.001738\n",
            "====> Epoch: 16 Average loss: 0.0015\n",
            "Train Epoch: 17 [0/1000 (0%)]\tLoss: 0.001730\n",
            "====> Epoch: 17 Average loss: 0.0015\n",
            "Train Epoch: 18 [0/1000 (0%)]\tLoss: 0.001708\n",
            "====> Epoch: 18 Average loss: 0.0015\n",
            "Train Epoch: 19 [0/1000 (0%)]\tLoss: 0.001477\n",
            "====> Epoch: 19 Average loss: 0.0014\n",
            "Train Epoch: 20 [0/1000 (0%)]\tLoss: 0.001588\n",
            "====> Epoch: 20 Average loss: 0.0014\n",
            "Train Epoch: 21 [0/1000 (0%)]\tLoss: 0.001517\n",
            "====> Epoch: 21 Average loss: 0.0013\n",
            "Train Epoch: 22 [0/1000 (0%)]\tLoss: 0.001455\n",
            "====> Epoch: 22 Average loss: 0.0013\n",
            "Train Epoch: 23 [0/1000 (0%)]\tLoss: 0.001429\n",
            "====> Epoch: 23 Average loss: 0.0013\n",
            "Train Epoch: 24 [0/1000 (0%)]\tLoss: 0.001356\n",
            "====> Epoch: 24 Average loss: 0.0012\n",
            "Train Epoch: 25 [0/1000 (0%)]\tLoss: 0.001359\n",
            "====> Epoch: 25 Average loss: 0.0012\n",
            "Train Epoch: 26 [0/1000 (0%)]\tLoss: 0.001335\n",
            "====> Epoch: 26 Average loss: 0.0012\n",
            "Train Epoch: 27 [0/1000 (0%)]\tLoss: 0.001379\n",
            "====> Epoch: 27 Average loss: 0.0012\n",
            "Train Epoch: 28 [0/1000 (0%)]\tLoss: 0.001332\n",
            "====> Epoch: 28 Average loss: 0.0011\n",
            "Train Epoch: 29 [0/1000 (0%)]\tLoss: 0.001294\n",
            "====> Epoch: 29 Average loss: 0.0011\n",
            "Train Epoch: 30 [0/1000 (0%)]\tLoss: 0.001249\n",
            "====> Epoch: 30 Average loss: 0.0011\n",
            "Train Epoch: 31 [0/1000 (0%)]\tLoss: 0.001214\n",
            "====> Epoch: 31 Average loss: 0.0011\n",
            "Train Epoch: 32 [0/1000 (0%)]\tLoss: 0.001178\n",
            "====> Epoch: 32 Average loss: 0.0011\n",
            "Train Epoch: 33 [0/1000 (0%)]\tLoss: 0.001245\n",
            "====> Epoch: 33 Average loss: 0.0011\n",
            "Train Epoch: 34 [0/1000 (0%)]\tLoss: 0.001183\n",
            "====> Epoch: 34 Average loss: 0.0010\n",
            "Train Epoch: 35 [0/1000 (0%)]\tLoss: 0.001127\n",
            "====> Epoch: 35 Average loss: 0.0010\n",
            "Train Epoch: 36 [0/1000 (0%)]\tLoss: 0.001149\n",
            "====> Epoch: 36 Average loss: 0.0010\n",
            "Train Epoch: 37 [0/1000 (0%)]\tLoss: 0.001155\n",
            "====> Epoch: 37 Average loss: 0.0010\n",
            "Train Epoch: 38 [0/1000 (0%)]\tLoss: 0.001075\n",
            "====> Epoch: 38 Average loss: 0.0010\n",
            "Train Epoch: 39 [0/1000 (0%)]\tLoss: 0.001085\n",
            "====> Epoch: 39 Average loss: 0.0010\n",
            "Train Epoch: 40 [0/1000 (0%)]\tLoss: 0.001148\n",
            "====> Epoch: 40 Average loss: 0.0010\n",
            "Train Epoch: 41 [0/1000 (0%)]\tLoss: 0.001087\n",
            "====> Epoch: 41 Average loss: 0.0010\n",
            "Train Epoch: 42 [0/1000 (0%)]\tLoss: 0.001076\n",
            "====> Epoch: 42 Average loss: 0.0010\n",
            "Train Epoch: 43 [0/1000 (0%)]\tLoss: 0.001090\n",
            "====> Epoch: 43 Average loss: 0.0009\n",
            "Train Epoch: 44 [0/1000 (0%)]\tLoss: 0.001072\n",
            "====> Epoch: 44 Average loss: 0.0009\n",
            "Train Epoch: 45 [0/1000 (0%)]\tLoss: 0.001030\n",
            "====> Epoch: 45 Average loss: 0.0009\n",
            "Train Epoch: 46 [0/1000 (0%)]\tLoss: 0.001006\n",
            "====> Epoch: 46 Average loss: 0.0009\n",
            "Train Epoch: 47 [0/1000 (0%)]\tLoss: 0.001016\n",
            "====> Epoch: 47 Average loss: 0.0009\n",
            "Train Epoch: 48 [0/1000 (0%)]\tLoss: 0.001023\n",
            "====> Epoch: 48 Average loss: 0.0009\n",
            "Train Epoch: 49 [0/1000 (0%)]\tLoss: 0.001006\n",
            "====> Epoch: 49 Average loss: 0.0009\n",
            "Train Epoch: 50 [0/1000 (0%)]\tLoss: 0.001011\n",
            "====> Epoch: 50 Average loss: 0.0009\n",
            "Train Epoch: 51 [0/1000 (0%)]\tLoss: 0.000981\n",
            "====> Epoch: 51 Average loss: 0.0009\n",
            "Train Epoch: 52 [0/1000 (0%)]\tLoss: 0.000983\n",
            "====> Epoch: 52 Average loss: 0.0009\n",
            "Train Epoch: 53 [0/1000 (0%)]\tLoss: 0.001017\n",
            "====> Epoch: 53 Average loss: 0.0009\n",
            "Train Epoch: 54 [0/1000 (0%)]\tLoss: 0.000957\n",
            "====> Epoch: 54 Average loss: 0.0009\n",
            "Train Epoch: 55 [0/1000 (0%)]\tLoss: 0.000947\n",
            "====> Epoch: 55 Average loss: 0.0009\n",
            "Train Epoch: 56 [0/1000 (0%)]\tLoss: 0.000945\n",
            "====> Epoch: 56 Average loss: 0.0009\n",
            "Train Epoch: 57 [0/1000 (0%)]\tLoss: 0.000943\n",
            "====> Epoch: 57 Average loss: 0.0009\n",
            "Train Epoch: 58 [0/1000 (0%)]\tLoss: 0.000946\n",
            "====> Epoch: 58 Average loss: 0.0008\n",
            "Train Epoch: 59 [0/1000 (0%)]\tLoss: 0.000923\n",
            "====> Epoch: 59 Average loss: 0.0008\n",
            "Train Epoch: 60 [0/1000 (0%)]\tLoss: 0.000947\n",
            "====> Epoch: 60 Average loss: 0.0008\n",
            "Train Epoch: 61 [0/1000 (0%)]\tLoss: 0.000946\n",
            "====> Epoch: 61 Average loss: 0.0008\n",
            "Train Epoch: 62 [0/1000 (0%)]\tLoss: 0.000925\n",
            "====> Epoch: 62 Average loss: 0.0008\n",
            "Train Epoch: 63 [0/1000 (0%)]\tLoss: 0.000894\n",
            "====> Epoch: 63 Average loss: 0.0008\n",
            "Train Epoch: 64 [0/1000 (0%)]\tLoss: 0.000932\n",
            "====> Epoch: 64 Average loss: 0.0008\n",
            "Train Epoch: 65 [0/1000 (0%)]\tLoss: 0.000916\n",
            "====> Epoch: 65 Average loss: 0.0008\n",
            "Train Epoch: 66 [0/1000 (0%)]\tLoss: 0.000888\n",
            "====> Epoch: 66 Average loss: 0.0008\n",
            "Train Epoch: 67 [0/1000 (0%)]\tLoss: 0.000913\n",
            "====> Epoch: 67 Average loss: 0.0008\n",
            "Train Epoch: 68 [0/1000 (0%)]\tLoss: 0.000894\n",
            "====> Epoch: 68 Average loss: 0.0008\n",
            "Train Epoch: 69 [0/1000 (0%)]\tLoss: 0.000867\n",
            "====> Epoch: 69 Average loss: 0.0008\n",
            "Train Epoch: 70 [0/1000 (0%)]\tLoss: 0.000861\n",
            "====> Epoch: 70 Average loss: 0.0008\n",
            "Train Epoch: 71 [0/1000 (0%)]\tLoss: 0.000895\n",
            "====> Epoch: 71 Average loss: 0.0008\n",
            "Train Epoch: 72 [0/1000 (0%)]\tLoss: 0.000834\n",
            "====> Epoch: 72 Average loss: 0.0008\n",
            "Train Epoch: 73 [0/1000 (0%)]\tLoss: 0.000871\n",
            "====> Epoch: 73 Average loss: 0.0008\n",
            "Train Epoch: 74 [0/1000 (0%)]\tLoss: 0.000885\n",
            "====> Epoch: 74 Average loss: 0.0008\n",
            "Train Epoch: 75 [0/1000 (0%)]\tLoss: 0.000846\n",
            "====> Epoch: 75 Average loss: 0.0008\n",
            "Train Epoch: 76 [0/1000 (0%)]\tLoss: 0.000859\n",
            "====> Epoch: 76 Average loss: 0.0008\n",
            "Train Epoch: 77 [0/1000 (0%)]\tLoss: 0.000859\n",
            "====> Epoch: 77 Average loss: 0.0008\n",
            "Train Epoch: 78 [0/1000 (0%)]\tLoss: 0.000838\n",
            "====> Epoch: 78 Average loss: 0.0008\n",
            "Train Epoch: 79 [0/1000 (0%)]\tLoss: 0.000868\n",
            "====> Epoch: 79 Average loss: 0.0007\n",
            "Train Epoch: 80 [0/1000 (0%)]\tLoss: 0.000823\n",
            "====> Epoch: 80 Average loss: 0.0007\n",
            "Train Epoch: 81 [0/1000 (0%)]\tLoss: 0.000804\n",
            "====> Epoch: 81 Average loss: 0.0007\n",
            "Train Epoch: 82 [0/1000 (0%)]\tLoss: 0.000799\n",
            "====> Epoch: 82 Average loss: 0.0007\n",
            "Train Epoch: 83 [0/1000 (0%)]\tLoss: 0.000768\n",
            "====> Epoch: 83 Average loss: 0.0007\n",
            "Train Epoch: 84 [0/1000 (0%)]\tLoss: 0.000804\n",
            "====> Epoch: 84 Average loss: 0.0007\n",
            "Train Epoch: 85 [0/1000 (0%)]\tLoss: 0.000806\n",
            "====> Epoch: 85 Average loss: 0.0007\n",
            "Train Epoch: 86 [0/1000 (0%)]\tLoss: 0.000815\n",
            "====> Epoch: 86 Average loss: 0.0007\n",
            "Train Epoch: 87 [0/1000 (0%)]\tLoss: 0.000785\n",
            "====> Epoch: 87 Average loss: 0.0007\n",
            "Train Epoch: 88 [0/1000 (0%)]\tLoss: 0.000821\n",
            "====> Epoch: 88 Average loss: 0.0007\n",
            "Train Epoch: 89 [0/1000 (0%)]\tLoss: 0.000815\n",
            "====> Epoch: 89 Average loss: 0.0007\n",
            "Train Epoch: 90 [0/1000 (0%)]\tLoss: 0.000749\n",
            "====> Epoch: 90 Average loss: 0.0007\n",
            "Train Epoch: 91 [0/1000 (0%)]\tLoss: 0.000788\n",
            "====> Epoch: 91 Average loss: 0.0007\n",
            "Train Epoch: 92 [0/1000 (0%)]\tLoss: 0.000767\n",
            "====> Epoch: 92 Average loss: 0.0007\n",
            "Train Epoch: 93 [0/1000 (0%)]\tLoss: 0.000765\n",
            "====> Epoch: 93 Average loss: 0.0007\n",
            "Train Epoch: 94 [0/1000 (0%)]\tLoss: 0.000769\n",
            "====> Epoch: 94 Average loss: 0.0007\n",
            "Train Epoch: 95 [0/1000 (0%)]\tLoss: 0.000801\n",
            "====> Epoch: 95 Average loss: 0.0007\n",
            "Train Epoch: 96 [0/1000 (0%)]\tLoss: 0.000760\n",
            "====> Epoch: 96 Average loss: 0.0007\n",
            "Train Epoch: 97 [0/1000 (0%)]\tLoss: 0.000755\n",
            "====> Epoch: 97 Average loss: 0.0007\n",
            "Train Epoch: 98 [0/1000 (0%)]\tLoss: 0.000747\n",
            "====> Epoch: 98 Average loss: 0.0007\n",
            "Train Epoch: 99 [0/1000 (0%)]\tLoss: 0.000751\n",
            "====> Epoch: 99 Average loss: 0.0007\n",
            "Train Epoch: 100 [0/1000 (0%)]\tLoss: 0.000782\n",
            "====> Epoch: 100 Average loss: 0.0007\n",
            "Train Epoch: 101 [0/1000 (0%)]\tLoss: 0.000744\n",
            "====> Epoch: 101 Average loss: 0.0007\n",
            "Train Epoch: 102 [0/1000 (0%)]\tLoss: 0.000749\n",
            "====> Epoch: 102 Average loss: 0.0007\n",
            "Train Epoch: 103 [0/1000 (0%)]\tLoss: 0.000766\n",
            "====> Epoch: 103 Average loss: 0.0007\n",
            "Train Epoch: 104 [0/1000 (0%)]\tLoss: 0.000741\n",
            "====> Epoch: 104 Average loss: 0.0007\n",
            "Train Epoch: 105 [0/1000 (0%)]\tLoss: 0.000730\n",
            "====> Epoch: 105 Average loss: 0.0007\n",
            "Train Epoch: 106 [0/1000 (0%)]\tLoss: 0.000736\n",
            "====> Epoch: 106 Average loss: 0.0007\n",
            "Train Epoch: 107 [0/1000 (0%)]\tLoss: 0.000737\n",
            "====> Epoch: 107 Average loss: 0.0007\n",
            "Train Epoch: 108 [0/1000 (0%)]\tLoss: 0.000721\n",
            "====> Epoch: 108 Average loss: 0.0007\n",
            "Train Epoch: 109 [0/1000 (0%)]\tLoss: 0.000741\n",
            "====> Epoch: 109 Average loss: 0.0007\n",
            "Train Epoch: 110 [0/1000 (0%)]\tLoss: 0.000687\n",
            "====> Epoch: 110 Average loss: 0.0007\n",
            "Train Epoch: 111 [0/1000 (0%)]\tLoss: 0.000710\n",
            "====> Epoch: 111 Average loss: 0.0007\n",
            "Train Epoch: 112 [0/1000 (0%)]\tLoss: 0.000710\n",
            "====> Epoch: 112 Average loss: 0.0006\n",
            "Train Epoch: 113 [0/1000 (0%)]\tLoss: 0.000713\n",
            "====> Epoch: 113 Average loss: 0.0006\n",
            "Train Epoch: 114 [0/1000 (0%)]\tLoss: 0.000687\n",
            "====> Epoch: 114 Average loss: 0.0006\n",
            "Train Epoch: 115 [0/1000 (0%)]\tLoss: 0.000716\n",
            "====> Epoch: 115 Average loss: 0.0006\n",
            "Train Epoch: 116 [0/1000 (0%)]\tLoss: 0.000719\n",
            "====> Epoch: 116 Average loss: 0.0006\n",
            "Train Epoch: 117 [0/1000 (0%)]\tLoss: 0.000707\n",
            "====> Epoch: 117 Average loss: 0.0006\n",
            "Train Epoch: 118 [0/1000 (0%)]\tLoss: 0.000706\n",
            "====> Epoch: 118 Average loss: 0.0006\n",
            "Train Epoch: 119 [0/1000 (0%)]\tLoss: 0.000689\n",
            "====> Epoch: 119 Average loss: 0.0006\n",
            "Train Epoch: 120 [0/1000 (0%)]\tLoss: 0.000716\n",
            "====> Epoch: 120 Average loss: 0.0006\n",
            "Train Epoch: 121 [0/1000 (0%)]\tLoss: 0.000691\n",
            "====> Epoch: 121 Average loss: 0.0006\n",
            "Train Epoch: 122 [0/1000 (0%)]\tLoss: 0.000702\n",
            "====> Epoch: 122 Average loss: 0.0006\n",
            "Train Epoch: 123 [0/1000 (0%)]\tLoss: 0.000734\n",
            "====> Epoch: 123 Average loss: 0.0006\n",
            "Train Epoch: 124 [0/1000 (0%)]\tLoss: 0.000677\n",
            "====> Epoch: 124 Average loss: 0.0006\n",
            "Train Epoch: 125 [0/1000 (0%)]\tLoss: 0.000671\n",
            "====> Epoch: 125 Average loss: 0.0006\n",
            "Train Epoch: 126 [0/1000 (0%)]\tLoss: 0.000685\n",
            "====> Epoch: 126 Average loss: 0.0006\n",
            "Train Epoch: 127 [0/1000 (0%)]\tLoss: 0.000677\n",
            "====> Epoch: 127 Average loss: 0.0006\n",
            "Train Epoch: 128 [0/1000 (0%)]\tLoss: 0.000688\n",
            "====> Epoch: 128 Average loss: 0.0006\n",
            "Train Epoch: 129 [0/1000 (0%)]\tLoss: 0.000685\n",
            "====> Epoch: 129 Average loss: 0.0006\n",
            "Train Epoch: 130 [0/1000 (0%)]\tLoss: 0.000694\n",
            "====> Epoch: 130 Average loss: 0.0006\n",
            "Train Epoch: 131 [0/1000 (0%)]\tLoss: 0.000712\n",
            "====> Epoch: 131 Average loss: 0.0006\n",
            "Train Epoch: 132 [0/1000 (0%)]\tLoss: 0.000686\n",
            "====> Epoch: 132 Average loss: 0.0006\n",
            "Train Epoch: 133 [0/1000 (0%)]\tLoss: 0.000681\n",
            "====> Epoch: 133 Average loss: 0.0006\n",
            "Train Epoch: 134 [0/1000 (0%)]\tLoss: 0.000685\n",
            "====> Epoch: 134 Average loss: 0.0006\n",
            "Train Epoch: 135 [0/1000 (0%)]\tLoss: 0.000661\n",
            "====> Epoch: 135 Average loss: 0.0006\n",
            "Train Epoch: 136 [0/1000 (0%)]\tLoss: 0.000708\n",
            "====> Epoch: 136 Average loss: 0.0006\n",
            "Train Epoch: 137 [0/1000 (0%)]\tLoss: 0.000674\n",
            "====> Epoch: 137 Average loss: 0.0006\n",
            "Train Epoch: 138 [0/1000 (0%)]\tLoss: 0.000655\n",
            "====> Epoch: 138 Average loss: 0.0006\n",
            "Train Epoch: 139 [0/1000 (0%)]\tLoss: 0.000650\n",
            "====> Epoch: 139 Average loss: 0.0006\n",
            "Train Epoch: 140 [0/1000 (0%)]\tLoss: 0.000657\n",
            "====> Epoch: 140 Average loss: 0.0006\n",
            "Train Epoch: 141 [0/1000 (0%)]\tLoss: 0.000706\n",
            "====> Epoch: 141 Average loss: 0.0006\n",
            "Train Epoch: 142 [0/1000 (0%)]\tLoss: 0.000671\n",
            "====> Epoch: 142 Average loss: 0.0006\n",
            "Train Epoch: 143 [0/1000 (0%)]\tLoss: 0.000657\n",
            "====> Epoch: 143 Average loss: 0.0006\n",
            "Train Epoch: 144 [0/1000 (0%)]\tLoss: 0.000652\n",
            "====> Epoch: 144 Average loss: 0.0006\n",
            "Train Epoch: 145 [0/1000 (0%)]\tLoss: 0.000656\n",
            "====> Epoch: 145 Average loss: 0.0006\n",
            "Train Epoch: 146 [0/1000 (0%)]\tLoss: 0.000652\n",
            "====> Epoch: 146 Average loss: 0.0006\n",
            "Train Epoch: 147 [0/1000 (0%)]\tLoss: 0.000650\n",
            "====> Epoch: 147 Average loss: 0.0006\n",
            "Train Epoch: 148 [0/1000 (0%)]\tLoss: 0.000628\n",
            "====> Epoch: 148 Average loss: 0.0006\n",
            "Train Epoch: 149 [0/1000 (0%)]\tLoss: 0.000625\n",
            "====> Epoch: 149 Average loss: 0.0006\n"
          ]
        }
      ]
    },
    {
      "cell_type": "code",
      "metadata": {
        "id": "T8jXjdRyzMy2"
      },
      "source": [
        "def display_images(imgs):\n",
        "  \n",
        "  r = 1\n",
        "  c = imgs.shape[0]\n",
        "  fig, axs = plt.subplots(r, c)\n",
        "  for j in range(c):\n",
        "    #black and white images\n",
        "    axs[j].imshow(pytorch_to_numpy(imgs[j, 0,:,:]), cmap='gray')\n",
        "    axs[j].axis('off')\n",
        "  plt.show()\n",
        "\n",
        "def display_ae_images(ae_model, test_imgs):\n",
        "  n_images = 5\n",
        "  idx = np.random.randint(0, test_imgs.shape[0], n_images)\n",
        "  test_imgs = test_imgs[idx,:,:,:]\n",
        "  print(test_imgs.shape)\n",
        "\n",
        "  #get output images\n",
        "  output_imgs = pytorch_to_numpy(ae_model.forward( test_imgs ))\n",
        "  print(output_imgs.shape)\n",
        "  \n",
        "  r = 2\n",
        "  c = n_images\n",
        "  fig, axs = plt.subplots(r, c)\n",
        "  for j in range(c):\n",
        "    #black and white images\n",
        "    axs[0,j].imshow(test_imgs[j, 0,:,:], cmap='gray')\n",
        "    axs[0,j].axis('off')\n",
        "    axs[1,j].imshow(output_imgs[j, 0,:,:], cmap='gray')\n",
        "    axs[1,j].axis('off')\n",
        "  plt.show()"
      ],
      "execution_count": 34,
      "outputs": []
    },
    {
      "cell_type": "code",
      "source": [
        "test_imgs = next(iter(mnist_train_loader))[0]\n",
        "display_ae_images(ae_model, test_imgs)"
      ],
      "metadata": {
        "id": "9pbXch29d68D",
        "colab": {
          "base_uri": "https://localhost:8080/",
          "height": 243
        },
        "outputId": "18787049-0d58-47af-d26e-b375610510fe"
      },
      "execution_count": 98,
      "outputs": [
        {
          "output_type": "stream",
          "name": "stdout",
          "text": [
            "torch.Size([5, 1, 28, 28])\n",
            "(5, 1, 28, 28)\n"
          ]
        },
        {
          "output_type": "display_data",
          "data": {
            "text/plain": [
              "<Figure size 432x288 with 10 Axes>"
            ],
            "image/png": "[encoded data removed]"
          },
          "metadata": {
            "needs_background": "light"
          }
        }
      ]
    },
    {
      "cell_type": "markdown",
      "source": [
        "__Question__ Are you satisfied with the results, do they look good ?"
      ],
      "metadata": {
        "id": "assPaJqB5sa-"
      }
    },
    {
      "cell_type": "markdown",
      "source": [
        "__Answer__ YES I AM!! They are not blurry which is the case where we have a problem when we work on this dataset.(we did exact same experiment in the class Modèls génératives)"
      ],
      "metadata": {
        "id": "Q7uoWa4O5x8R"
      }
    },
    {
      "cell_type": "markdown",
      "metadata": {
        "id": "zO9ATQEiyr3b"
      },
      "source": [
        "## 2/ Two simple generative models\n",
        "\n",
        "In this section, we consider two naïve approaches to creating generative models. The general idea is the following:\n",
        "\n",
        "- train an autoencoder\n",
        "- estimate different statistics (average, variance) of the data in the latent space\n",
        "- using these statistics, define a model based on a Gaussian distribution\n",
        "- generate data with this distribution\n",
        "\n",
        "We will consider these two situations :\n",
        "\n",
        "- a multivariate Gaussian distribution with __diagonal covariance matrix__ (each latent component is an independent random variable). This requires the average and variance in each latent component\n",
        "- a multivariate Gaussian distribution with __non-diagonal covariance matrix__. This requires the average and covariance matrix of the latent components\n",
        "\n",
        "Obviously, since this is done _a posteriori_ after training the autoencoder, there is nothing which guarantees that the latent codes do indeed follow a Gaussian distribution. Our goal will be to verify that Variational Autoencoders indeed produce better results than such naïve approaches."
      ]
    },
    {
      "cell_type": "markdown",
      "source": [
        "## 2.0 Defining and generating random Gaussian latent codes\n",
        "\n",
        "Let $z$ be a latent code and $d$ the dimension of the latent space (called ``z_dim`` in the code). We suppose that the $z$'s follow a multivariate Gaussian distribution, written as:\n",
        "\n",
        "\\begin{equation}\n",
        "z \\sim \\mathcal{N}\\left(\n",
        "\\mu,\n",
        "\\bf{C}\n",
        "\\right),\n",
        "\\end{equation}\n",
        "where $\\mu$ and $\\bf{C}$ are the average vector and covariance matrix of the Gaussian distribution. To define such a generative model, we must therefore determine $\\mu$ and $\\bf{C}$. Once this is done, we can generate a random Gaussian latent code in the following manner:\n",
        "\n",
        "\\begin{equation}\n",
        "z = \\mu + {\\bf{L}} \\varepsilon,\n",
        "\\end{equation}\n",
        "where $\\varepsilon$ is a random vector drawn from a multivariate normal distribution ($\\mu=0$ and ${\\bf{C}} = \\text{Id}$), and $\\bf{L}$ is the Cholesky decomposition of the positive semi-definite covariance matrix. In other words:\n",
        "\n",
        "\\begin{equation}\n",
        "{\\bf{C}} = {\\bf{L}}{\\bf{L}^T}.\n",
        "\\end{equation}\n",
        "\n",
        "This gives a simple method of producing a multivariate Gaussian random variable."
      ],
      "metadata": {
        "id": "x2M1-BRmf56d"
      }
    },
    {
      "cell_type": "markdown",
      "source": [
        "## 2.1/ A Gaussian model with diagonal covariance\n",
        "\n",
        "The first naïve model is  defined in this first case as:\n",
        "\n",
        "- $\\bf{\\mu}=\\left[\\mu_0, \\mu_1, \\cdots, \\mu_{d-1}\\right]^T$\n",
        "- $\n",
        "  \\bf{C} = \\begin{pmatrix}\n",
        "\\sigma_0^2 & 0 & \\cdots & 0 \\\\\n",
        "0 & \\sigma_1^2 & \\cdots & 0 \\\\\n",
        "\\vdots & \\ddots & \\ddots & \\vdots \\\\\n",
        "0 & 0 & \\cdots & \\sigma_{d-1}^2\n",
        "\\end{pmatrix}$\n",
        "\n",
        "In this situation, therefore, the matrix $\\bf{L}$ can be calculated quite simply, as:\n",
        "- $\n",
        "  \\bf{L} = \\begin{pmatrix}\n",
        "\\sigma_0 & 0 & \\cdots & 0 \\\\\n",
        "0 & \\sigma_1 & \\cdots & 0 \\\\\n",
        "\\vdots & \\ddots & \\ddots & \\vdots \\\\\n",
        "0 & 0 & \\cdots & \\sigma_{d-1}\n",
        "\\end{pmatrix}$\n",
        "\n",
        "In the next cell, calculate the empirical average and variances over a certain number of batches:"
      ],
      "metadata": {
        "id": "NWpucm972i7j"
      }
    },
    {
      "cell_type": "code",
      "metadata": {
        "id": "sUXHCtvW2iQ0",
        "colab": {
          "base_uri": "https://localhost:8080/"
        },
        "outputId": "3d18ee2e-caa0-431c-da6a-d80bebd032f2"
      },
      "source": [
        "n_batches = np.floor( len(mnist_train_loader.dataset.indices)/batch_size ).astype(int)\n",
        "\n",
        "z_average = torch.zeros(n_batches,ae_model.z_dim)\n",
        "z_sigma = torch.zeros(n_batches,ae_model.z_dim)\n",
        "\n",
        "for batch_idx, (data, _) in enumerate(mnist_train_loader):\n",
        "  z = ae_model.encoder(data)\n",
        "  z_average[batch_idx,:] = torch.mean(z, dim=0) # FILL IN CODE HERE\n",
        "  z_sigma[batch_idx,:] = torch.std(z, dim=0, unbiased=True) # FILL IN CODE HERE\n",
        "\n",
        "z_average = torch.mean(z_average, dim=0) # FILL IN CODE HERE\n",
        "z_sigma = torch.mean(z_sigma, dim=0) # FILL IN CODE HERE\n",
        "\n",
        "print(\"Average of latent codes:\",z_average)\n",
        "print(\"Standard deviation of latent codes:\",z_sigma)"
      ],
      "execution_count": 37,
      "outputs": [
        {
          "output_type": "stream",
          "name": "stdout",
          "text": [
            "Average of latent codes: tensor([-9.4037, -5.7325, -5.7910, -4.9650, -5.0871,  2.4661, -2.3936, -5.9579,\n",
            "         0.8925,  7.5126], grad_fn=<MeanBackward1>)\n",
            "Standard deviation of latent codes: tensor([9.6203, 6.6901, 5.3792, 8.9500, 8.7217, 7.6248, 6.4954, 6.8514, 8.7601,\n",
            "        6.1983], grad_fn=<MeanBackward1>)\n"
          ]
        }
      ]
    },
    {
      "cell_type": "markdown",
      "source": [
        "Now, in the next cell generate data with this simple generative model using the approach described above. Display these images with the ``display_images`` function. \n",
        "\n",
        "__NB__ You do not actually have to define the matrix $\\bf{L}$ in this case, an element-wise multiplication of two (properly chosen) vectors will suffice. To generate multivariate normal random variables you can use the following Pytorch function:\n",
        "\n",
        "- ```torch.randn```\n"
      ],
      "metadata": {
        "id": "Lrpc62ML9K4l"
      }
    },
    {
      "cell_type": "code",
      "source": [
        "def generate_images_diagonal_gaussian(ae_model, z_average, z_sigma, n_images=5):\n",
        "    epsilon = torch.randn(n_images*len(z_average))  # Random vector drawn from a multivariate normal distribution\n",
        "    z_generated = (z_average.repeat(n_images) + torch.inner(z_sigma.repeat(n_images),epsilon)).view(n_images,-1)  # Generate latent codes with the diagonal Gaussian model\n",
        "    imgs_generated = ae_model.decoder(z_generated)  # Generate images using the decoder\n",
        "    return imgs_generated\n",
        "\n",
        "imgs_generated = generate_images_diagonal_gaussian(ae_model, z_average, z_sigma, n_images=5)\n",
        "print(\"Generated images shape:\", imgs_generated.shape)\n",
        "display_images(imgs_generated)\n"
      ],
      "metadata": {
        "id": "1_Tekii-9QEo",
        "colab": {
          "base_uri": "https://localhost:8080/",
          "height": 107
        },
        "outputId": "2f8b957d-aea0-43e9-f6bf-8a0a83f6c2a7"
      },
      "execution_count": 99,
      "outputs": [
        {
          "output_type": "stream",
          "name": "stdout",
          "text": [
            "Generated images shape: torch.Size([5, 1, 28, 28])\n"
          ]
        },
        {
          "output_type": "display_data",
          "data": {
            "text/plain": [
              "<Figure size 432x288 with 5 Axes>"
            ],
            "image/png": "[encoded data removed]"
          },
          "metadata": {
            "needs_background": "light"
          }
        }
      ]
    },
    {
      "cell_type": "markdown",
      "source": [
        "As you should be able to see, these results are not that good. Let's try a slightly more sophisticated model."
      ],
      "metadata": {
        "id": "xiNaEgLIloeA"
      }
    },
    {
      "cell_type": "markdown",
      "source": [
        "## 2.1 Non-diagonal Gaussian model\n",
        "\n",
        "The second model uses a non-diagonal covariance matrix $\\bf{C}$ in the multivariate Gaussian distribution. In the next cell, calculate the average and covariance matrix over several batches of latent codes.\n",
        "\n",
        "__NB__ You can use the ```torch.cov``` function. Make sure to put the data in the right format for this (see documentation : https://pytorch.org/docs/stable/generated/torch.cov.html)."
      ],
      "metadata": {
        "id": "WjVPfkRKYMSh"
      }
    },
    {
      "cell_type": "code",
      "source": [
        "n_batches = np.floor( len(mnist_train_loader.dataset.indices)/batch_size ).astype(int)\n",
        "\n",
        "z_average = torch.zeros(n_batches,ae_model.z_dim)\n",
        "z_covariance = torch.zeros(n_batches,ae_model.z_dim,ae_model.z_dim)\n",
        "\n",
        "for batch_idx, (data, _) in enumerate(mnist_train_loader):\n",
        "  z = ae_model.encoder(data)\n",
        "  z_average[batch_idx,:] = torch.mean(z, dim=0)  # FILL IN CODE HERE\n",
        "  z_covariance[batch_idx,:,:] = torch.cov(z.T) # FILL IN CODE HERE\n",
        "\n",
        "z_average = torch.mean(z_average, dim=0) # FILL IN CODE HERE\n",
        "z_covariance = torch.mean(z_covariance, dim=0) # FILL IN CODE HERE\n",
        "\n",
        "print(\"Average of latent codes:\",z_average)\n",
        "print(\"Covariance matrix of latent codes:\",z_covariance)"
      ],
      "metadata": {
        "id": "ArXgre39CD2H",
        "colab": {
          "base_uri": "https://localhost:8080/"
        },
        "outputId": "f74c3dc1-d2e6-4adc-a214-88238e680b23"
      },
      "execution_count": 39,
      "outputs": [
        {
          "output_type": "stream",
          "name": "stdout",
          "text": [
            "Average of latent codes: tensor([-9.2394, -5.6898, -5.7924, -4.8140, -5.0019,  2.4551, -2.4116, -5.9659,\n",
            "         0.8544,  7.5447], grad_fn=<MeanBackward1>)\n",
            "Covariance matrix of latent codes: tensor([[ 90.2390,  20.1710,   2.3893,  49.9492,  20.4116,  11.8390,   4.8533,\n",
            "         -11.0722,   3.8561,  -0.2621],\n",
            "        [ 20.1710,  43.8957,  -1.1371,  20.5624,  10.5520, -15.9752, -22.9529,\n",
            "           0.3569, -12.6517,   6.4496],\n",
            "        [  2.3893,  -1.1371,  29.2909,  -4.1828, -16.0158,  -1.5571,  -2.3251,\n",
            "          -4.2655,  -5.3141,   2.6664],\n",
            "        [ 49.9492,  20.5624,  -4.1828,  78.6149,   3.5068,   6.5195,   1.0371,\n",
            "           0.4655,  -7.5367,   9.0948],\n",
            "        [ 20.4116,  10.5520, -16.0158,   3.5068,  77.5563,   5.4811,   8.5335,\n",
            "           5.3435, -22.3010,   6.1226],\n",
            "        [ 11.8390, -15.9752,  -1.5571,   6.5195,   5.4811,  57.4447,  16.9275,\n",
            "          -4.4240,  -9.3694,   4.3863],\n",
            "        [  4.8533, -22.9529,  -2.3251,   1.0371,   8.5335,  16.9275,  42.3371,\n",
            "          26.0198,  13.2848, -12.4144],\n",
            "        [-11.0722,   0.3569,  -4.2655,   0.4655,   5.3435,  -4.4240,  26.0198,\n",
            "          48.7144,  18.7193,  -6.5921],\n",
            "        [  3.8561, -12.6517,  -5.3141,  -7.5367, -22.3010,  -9.3694,  13.2848,\n",
            "          18.7193,  76.1876,  -6.7380],\n",
            "        [ -0.2621,   6.4496,   2.6664,   9.0948,   6.1226,   4.3863, -12.4144,\n",
            "          -6.5921,  -6.7380,  39.1125]], grad_fn=<MeanBackward1>)\n"
          ]
        }
      ]
    },
    {
      "cell_type": "markdown",
      "source": [
        "Now, generate some samples with this distribution. In this case, you will actually have to calculate the Cholesky decomposition and find $\\bf{L}$. For this, you can use \n",
        "\n",
        "- ```torch.linalg.cholesky```\n",
        "\n",
        "In this model, you will need to carry out matrix multiplication over a batch of latent codes, which is a bit more complicated than the previous naïve model (which used element-wise vector multiplication). So you have two options:\n",
        "\n",
        "- copy the matrix $\\bf{L}$ several times and carry out batch matrix multiplication\n",
        "- simply loop and carry out normal matrix multiplication to produce each image (this has the disadvantage of not taking advantage of any parallelisation, but it should not matter too much).\n",
        "\n",
        "In the first case, you can use the following functions:\n",
        "\n",
        "- ```torch.bmm```\n",
        "- ```torch.tile```\n",
        "\n",
        "Fill in the function to generate images using this model now:"
      ],
      "metadata": {
        "id": "JhXU8cnTZ0E8"
      }
    },
    {
      "cell_type": "code",
      "source": [
        "def generate_images_non_diagonal_gaussian(ae_model, z_average, z_covariance, n_images=5):\n",
        "  \n",
        "    L = torch.linalg.cholesky(z_covariance)\n",
        "\n",
        "    epsilon = torch.randn(n_images, len(z_average))\n",
        "    z_generated = z_average.repeat(n_images, 1) + torch.matmul(epsilon, L)\n",
        "    imgs_generated = ae_model.decoder(z_generated)\n",
        "    return imgs_generated.view(n_images, 1, 28, 28)\n",
        "\n",
        "imgs_generated = generate_images_non_diagonal_gaussian(ae_model, z_average, z_covariance, n_images=5)\n",
        "display_images(imgs_generated)\n"
      ],
      "metadata": {
        "id": "zXGlJTZ7Z4ed",
        "colab": {
          "base_uri": "https://localhost:8080/",
          "height": 89
        },
        "outputId": "bf57f2df-0e7d-44e2-9289-c6aa7323dec8"
      },
      "execution_count": 100,
      "outputs": [
        {
          "output_type": "display_data",
          "data": {
            "text/plain": [
              "<Figure size 432x288 with 5 Axes>"
            ],
            "image/png": "[encoded data removed]"
          },
          "metadata": {
            "needs_background": "light"
          }
        }
      ]
    },
    {
      "cell_type": "markdown",
      "source": [
        "You should see some improvement, but we can do better than this. Thus, we turn to the variational autoencoder."
      ],
      "metadata": {
        "id": "qLtsdri6zKEm"
      }
    },
    {
      "cell_type": "markdown",
      "source": [
        "# 3/ Variational autoencoder\n",
        "\n",
        "Now, we are going to create an variational autoencoder to carry out __image generation__. Let's first recall the idea of a variational autoencoder\n",
        "\n",
        "## Main idea\n",
        "\n",
        "The main idea is to create an autoencoder whose latent codes follow a certain distribution (a Gaussian distribution in practice). This is done with two tools : \n",
        "\n",
        "- A specific architecture, where the encoder produces the average and variance of the latent codes\n",
        "- A specially designed loss function\n",
        "\n",
        "Once the VAE is trained, it is possible to sample in the latent space by producing random normal variables and simply decoding.\n",
        "\n",
        "## Architecture\n",
        "\n",
        "The architecture of the VAE model is as follows:\n",
        "\n",
        "The encoder consists of:\n",
        "\n",
        "Encoder :\n",
        "- Flatten input\n",
        "- Dense layer $+$ ReLU\n",
        "- Dense layer $+$ ReLU\n",
        "- Dense layer (no non-linarity) to produce the average, Dense layer (no non-linarity) to produce the variance (these last two layers are in parallel)\n",
        "\n",
        "Decoder :\n",
        "- Dense layer $+$ ReLU\n",
        "- Dense layer $+$ ReLU\n",
        "- Dense layer $+$ Sigmoid Activation\n",
        "- Reshape, to size $28\\times 28\\times 1$\n",
        "\n",
        "\n",
        "## Variational Autoencoder loss\n",
        "\n",
        "Recall that for the VAE, the loss function is in fact a function to __maximise__. In fact, for implementation, you will see that it is easier to __minimise__ $-\\mathcal{L}$.\n",
        "\n",
        "In the case of an image which is represented by a set of __Bernoulli__ variables (which is relevant for mnist), the original loss function (to maximise) is written :\n",
        "\n",
        "\n",
        "\\begin{align}\n",
        "\\mathcal{L} &= \\log\\left(p_\\theta(x|z)\\right) - KL\\left( q_\\phi(z|x) \\; || \\; p_\\theta(z)\\right) \\\\\n",
        "    &= \\left(\\sum_{i} x_i \\log y_i + (1-x_i) \\log (1-y_i)\\right) - \\left(\\frac{1}{2} \\sum_j \\left( \\sigma_j^2 + \\mu_j^2 - \\log \\sigma_j^2 -1 \\right)\\right)\n",
        "\\end{align}\n",
        "\n",
        "\n",
        "where $i$ is summed over the image pixels, and $j$ is summed over the elements of the latent space. $\\sigma_j^2$ is the $j$th element of the latent space variance, and $\\mu_j$ is the $j$th element of the latent space mean.\n",
        "\n",
        "The left part of the loss (reconstruction error) can be implemented simply as the binary cross-entropy between the input x and the output y. Since we are __maximising__ $-$[binary cross-entropy] (look at the formula), this is equivalent to minimising the binary cross-entropy.\n",
        "\n",
        "For the right part of the equation (KL divergence), you need to implement it manually. \n",
        "\n",
        "The final loss is the average, over the batch size, of the sum of the reconstruction error (left part) and the KL divergence (right part). Be careful, in the formula, the sums over $i$ and $j$ are over the number of pixels and the number of latent elements, respectively. To achieve a sum rather than an average, you can use ```torch.nn.BCELoss(reduction='sum')()```, and the ```torch.sum()``` functions.\n",
        "\n",
        "As in the case of the normal autoencoder, you will need to flatten and then reshape the tensors at the beginning/end of the network."
      ],
      "metadata": {
        "id": "8UqeNhuSdnDt"
      }
    },
    {
      "cell_type": "code",
      "source": [
        "class VAE(torch.nn.Module):\n",
        "  def __init__(self, x_dim, h_dim1, h_dim2, z_dim, n_rows, n_cols, n_channels):\n",
        "      super(VAE, self).__init__()\n",
        "\n",
        "      self.n_rows = n_rows\n",
        "      self.n_cols = n_cols\n",
        "      self.n_channels = n_channels\n",
        "      self.n_pixels = self.n_rows * self.n_cols\n",
        "      self.z_dim = z_dim\n",
        "\n",
        "      # encoder part\n",
        "      self.fc1 = torch.nn.Linear(x_dim, h_dim1)\n",
        "      self.fc2 = torch.nn.Linear(h_dim1, h_dim2)\n",
        "      self.fc31 = torch.nn.Linear(h_dim2, z_dim)\n",
        "      self.fc32 = torch.nn.Linear(h_dim2, z_dim)\n",
        "      # decoder part\n",
        "      self.fc4 = torch.nn.Linear(z_dim, h_dim2)\n",
        "      self.fc5 = torch.nn.Linear(h_dim2, h_dim1)\n",
        "      self.fc6 = torch.nn.Linear(h_dim1, x_dim)\n",
        "\n",
        "  def encoder(self, x):\n",
        "      h = torch.relu(self.fc1(x))\n",
        "      h = torch.relu(self.fc2(h))\n",
        "      return self.fc31(h), self.fc32(h)  # mu, log_var\n",
        "\n",
        "  def decoder(self, z):\n",
        "      h = torch.relu(self.fc4(z))\n",
        "      h = torch.relu(self.fc5(h))\n",
        "      return torch.sigmoid(self.fc6(h))\n",
        "\n",
        "  def sampling(self, mu, log_var):\n",
        "      std = torch.exp(log_var / 2)\n",
        "      eps = torch.randn_like(std)\n",
        "      return eps.mul(std).add_(mu)  # return z sample\n",
        "\n",
        "  def forward(self, x):\n",
        "      z_mu, z_log_var = self.encoder(x)\n",
        "      z = self.sampling(z_mu, z_log_var)\n",
        "      return self.decoder(z), z_mu, z_log_var\n",
        "\n",
        "  def loss_function(self, x, y, mu, log_var):\n",
        "      reconstruction_error = torch.nn.BCELoss(reduction='sum')(y, x)\n",
        "\n",
        "      KLD = -0.5 * torch.sum(1 + log_var - mu.pow(2) - log_var.exp())\n",
        "\n",
        "      return reconstruction_error + KLD\n"
      ],
      "metadata": {
        "id": "6siMHQLheM4T"
      },
      "execution_count": 101,
      "outputs": []
    },
    {
      "cell_type": "markdown",
      "source": [
        "Now, create the model (similarly as above)"
      ],
      "metadata": {
        "id": "hk_9fDIphlsi"
      }
    },
    {
      "cell_type": "code",
      "source": [
        "# create model\n",
        "vae_dim_1 = ae_dim_1\n",
        "vae_dim_2 = ae_dim_2\n",
        "vae_model = VAE(x_dim=n_pixels, h_dim1= vae_dim_1, h_dim2=vae_dim_2, z_dim=z_dim,n_rows=n_rows,n_cols=n_cols,n_channels=n_channels)\n",
        "vae_optimizer = optim.Adam(vae_model.parameters())"
      ],
      "metadata": {
        "id": "pVlpC2R3htyU"
      },
      "execution_count": 102,
      "outputs": []
    },
    {
      "cell_type": "markdown",
      "source": [
        "Finally, train the model. First modify the training function to the case of the vae."
      ],
      "metadata": {
        "id": "NYKLF_oMh5HO"
      }
    },
    {
      "cell_type": "code",
      "source": [
        "def train_vae(vae_model, data_train_loader, epoch):\n",
        "  train_loss = 0\n",
        "  for batch_idx, (data, _) in enumerate(data_train_loader):\n",
        "    vae_optimizer.zero_grad()\n",
        "\n",
        "    y, z_mu, z_log_var = vae_model(data.view(-1, n_pixels))\n",
        "    loss_vae = vae_model.loss_function(data.view(-1, n_pixels), y, z_mu, z_log_var)\n",
        "    loss_vae.backward()\n",
        "    train_loss += loss_vae.item()\n",
        "    vae_optimizer.step()\n",
        "\n",
        "    if batch_idx % 100 == 0:\n",
        "      print('Train Epoch: {} [{}/{} ({:.0f}%)]\\tLoss: {:.6f}'.format(\n",
        "          epoch, batch_idx * len(data), len(data_train_loader.dataset),\n",
        "          100. * batch_idx / len(data_train_loader), loss_vae.item() / len(data)))\n",
        "  print('====> Epoch: {} Average loss: {:.4f}'.format(epoch, train_loss / len(data_train_loader.dataset)))\n"
      ],
      "metadata": {
        "id": "z6DjKTWmmssb"
      },
      "execution_count": 103,
      "outputs": []
    },
    {
      "cell_type": "code",
      "source": [
        "# now train the model\n",
        "for epoch in range(0, n_epochs):\n",
        "  train_vae(vae_model,mnist_train_loader,epoch)"
      ],
      "metadata": {
        "id": "L9JUUs6Kh8HB",
        "colab": {
          "base_uri": "https://localhost:8080/"
        },
        "outputId": "9451ce1d-8b10-46ca-cd8c-79539a1c94f4"
      },
      "execution_count": 48,
      "outputs": [
        {
          "output_type": "stream",
          "name": "stdout",
          "text": [
            "Train Epoch: 0 [0/1000 (0%)]\tLoss: 544.269714\n",
            "====> Epoch: 0 Average loss: 411.6509\n",
            "Train Epoch: 1 [0/1000 (0%)]\tLoss: 290.232147\n",
            "====> Epoch: 1 Average loss: 233.4965\n",
            "Train Epoch: 2 [0/1000 (0%)]\tLoss: 221.934525\n",
            "====> Epoch: 2 Average loss: 198.3563\n",
            "Train Epoch: 3 [0/1000 (0%)]\tLoss: 213.223602\n",
            "====> Epoch: 3 Average loss: 189.3968\n",
            "Train Epoch: 4 [0/1000 (0%)]\tLoss: 212.446808\n",
            "====> Epoch: 4 Average loss: 188.9870\n",
            "Train Epoch: 5 [0/1000 (0%)]\tLoss: 200.412704\n",
            "====> Epoch: 5 Average loss: 185.3671\n",
            "Train Epoch: 6 [0/1000 (0%)]\tLoss: 200.740295\n",
            "====> Epoch: 6 Average loss: 184.6634\n",
            "Train Epoch: 7 [0/1000 (0%)]\tLoss: 205.920059\n",
            "====> Epoch: 7 Average loss: 183.0422\n",
            "Train Epoch: 8 [0/1000 (0%)]\tLoss: 198.174149\n",
            "====> Epoch: 8 Average loss: 182.0002\n",
            "Train Epoch: 9 [0/1000 (0%)]\tLoss: 202.098083\n",
            "====> Epoch: 9 Average loss: 180.3202\n",
            "Train Epoch: 10 [0/1000 (0%)]\tLoss: 199.434662\n",
            "====> Epoch: 10 Average loss: 179.7531\n",
            "Train Epoch: 11 [0/1000 (0%)]\tLoss: 199.736298\n",
            "====> Epoch: 11 Average loss: 177.4625\n",
            "Train Epoch: 12 [0/1000 (0%)]\tLoss: 201.442108\n",
            "====> Epoch: 12 Average loss: 177.2524\n",
            "Train Epoch: 13 [0/1000 (0%)]\tLoss: 198.869705\n",
            "====> Epoch: 13 Average loss: 175.3609\n",
            "Train Epoch: 14 [0/1000 (0%)]\tLoss: 190.780975\n",
            "====> Epoch: 14 Average loss: 174.1948\n",
            "Train Epoch: 15 [0/1000 (0%)]\tLoss: 192.440384\n",
            "====> Epoch: 15 Average loss: 172.7181\n",
            "Train Epoch: 16 [0/1000 (0%)]\tLoss: 195.697708\n",
            "====> Epoch: 16 Average loss: 171.8416\n",
            "Train Epoch: 17 [0/1000 (0%)]\tLoss: 194.568588\n",
            "====> Epoch: 17 Average loss: 170.9195\n",
            "Train Epoch: 18 [0/1000 (0%)]\tLoss: 193.802490\n",
            "====> Epoch: 18 Average loss: 167.8062\n",
            "Train Epoch: 19 [0/1000 (0%)]\tLoss: 182.493500\n",
            "====> Epoch: 19 Average loss: 166.6678\n",
            "Train Epoch: 20 [0/1000 (0%)]\tLoss: 183.211868\n",
            "====> Epoch: 20 Average loss: 162.3673\n",
            "Train Epoch: 21 [0/1000 (0%)]\tLoss: 182.491241\n",
            "====> Epoch: 21 Average loss: 161.1740\n",
            "Train Epoch: 22 [0/1000 (0%)]\tLoss: 174.747787\n",
            "====> Epoch: 22 Average loss: 159.4417\n",
            "Train Epoch: 23 [0/1000 (0%)]\tLoss: 183.363235\n",
            "====> Epoch: 23 Average loss: 157.2627\n",
            "Train Epoch: 24 [0/1000 (0%)]\tLoss: 177.825897\n",
            "====> Epoch: 24 Average loss: 157.2622\n",
            "Train Epoch: 25 [0/1000 (0%)]\tLoss: 176.433029\n",
            "====> Epoch: 25 Average loss: 155.6948\n",
            "Train Epoch: 26 [0/1000 (0%)]\tLoss: 167.499344\n",
            "====> Epoch: 26 Average loss: 153.4785\n",
            "Train Epoch: 27 [0/1000 (0%)]\tLoss: 172.093155\n",
            "====> Epoch: 27 Average loss: 153.0081\n",
            "Train Epoch: 28 [0/1000 (0%)]\tLoss: 170.495773\n",
            "====> Epoch: 28 Average loss: 148.7339\n",
            "Train Epoch: 29 [0/1000 (0%)]\tLoss: 162.066132\n",
            "====> Epoch: 29 Average loss: 148.0551\n",
            "Train Epoch: 30 [0/1000 (0%)]\tLoss: 166.879776\n",
            "====> Epoch: 30 Average loss: 145.8087\n",
            "Train Epoch: 31 [0/1000 (0%)]\tLoss: 167.292877\n",
            "====> Epoch: 31 Average loss: 144.2696\n",
            "Train Epoch: 32 [0/1000 (0%)]\tLoss: 153.069885\n",
            "====> Epoch: 32 Average loss: 141.8969\n",
            "Train Epoch: 33 [0/1000 (0%)]\tLoss: 160.828293\n",
            "====> Epoch: 33 Average loss: 140.1549\n",
            "Train Epoch: 34 [0/1000 (0%)]\tLoss: 156.914917\n",
            "====> Epoch: 34 Average loss: 138.4680\n",
            "Train Epoch: 35 [0/1000 (0%)]\tLoss: 151.776443\n",
            "====> Epoch: 35 Average loss: 136.6819\n",
            "Train Epoch: 36 [0/1000 (0%)]\tLoss: 155.862686\n",
            "====> Epoch: 36 Average loss: 135.2189\n",
            "Train Epoch: 37 [0/1000 (0%)]\tLoss: 149.256592\n",
            "====> Epoch: 37 Average loss: 134.9048\n",
            "Train Epoch: 38 [0/1000 (0%)]\tLoss: 153.724442\n",
            "====> Epoch: 38 Average loss: 133.2661\n",
            "Train Epoch: 39 [0/1000 (0%)]\tLoss: 152.451630\n",
            "====> Epoch: 39 Average loss: 133.4892\n",
            "Train Epoch: 40 [0/1000 (0%)]\tLoss: 147.621902\n",
            "====> Epoch: 40 Average loss: 131.1291\n",
            "Train Epoch: 41 [0/1000 (0%)]\tLoss: 141.104431\n",
            "====> Epoch: 41 Average loss: 129.4985\n",
            "Train Epoch: 42 [0/1000 (0%)]\tLoss: 138.555862\n",
            "====> Epoch: 42 Average loss: 128.8228\n",
            "Train Epoch: 43 [0/1000 (0%)]\tLoss: 143.186203\n",
            "====> Epoch: 43 Average loss: 128.3126\n",
            "Train Epoch: 44 [0/1000 (0%)]\tLoss: 135.875092\n",
            "====> Epoch: 44 Average loss: 127.0917\n",
            "Train Epoch: 45 [0/1000 (0%)]\tLoss: 141.974060\n",
            "====> Epoch: 45 Average loss: 127.0938\n",
            "Train Epoch: 46 [0/1000 (0%)]\tLoss: 133.663681\n",
            "====> Epoch: 46 Average loss: 125.7574\n",
            "Train Epoch: 47 [0/1000 (0%)]\tLoss: 141.700516\n",
            "====> Epoch: 47 Average loss: 125.2787\n",
            "Train Epoch: 48 [0/1000 (0%)]\tLoss: 141.395859\n",
            "====> Epoch: 48 Average loss: 125.4226\n",
            "Train Epoch: 49 [0/1000 (0%)]\tLoss: 141.641327\n",
            "====> Epoch: 49 Average loss: 124.1376\n",
            "Train Epoch: 50 [0/1000 (0%)]\tLoss: 132.060120\n",
            "====> Epoch: 50 Average loss: 122.8037\n",
            "Train Epoch: 51 [0/1000 (0%)]\tLoss: 128.776123\n",
            "====> Epoch: 51 Average loss: 122.0491\n",
            "Train Epoch: 52 [0/1000 (0%)]\tLoss: 133.250168\n",
            "====> Epoch: 52 Average loss: 121.3079\n",
            "Train Epoch: 53 [0/1000 (0%)]\tLoss: 136.552658\n",
            "====> Epoch: 53 Average loss: 120.7172\n",
            "Train Epoch: 54 [0/1000 (0%)]\tLoss: 131.520706\n",
            "====> Epoch: 54 Average loss: 120.1139\n",
            "Train Epoch: 55 [0/1000 (0%)]\tLoss: 134.921402\n",
            "====> Epoch: 55 Average loss: 120.0538\n",
            "Train Epoch: 56 [0/1000 (0%)]\tLoss: 131.247070\n",
            "====> Epoch: 56 Average loss: 118.4396\n",
            "Train Epoch: 57 [0/1000 (0%)]\tLoss: 134.628784\n",
            "====> Epoch: 57 Average loss: 117.9134\n",
            "Train Epoch: 58 [0/1000 (0%)]\tLoss: 137.266693\n",
            "====> Epoch: 58 Average loss: 117.9866\n",
            "Train Epoch: 59 [0/1000 (0%)]\tLoss: 128.743027\n",
            "====> Epoch: 59 Average loss: 116.1466\n",
            "Train Epoch: 60 [0/1000 (0%)]\tLoss: 127.319817\n",
            "====> Epoch: 60 Average loss: 116.7370\n",
            "Train Epoch: 61 [0/1000 (0%)]\tLoss: 130.290726\n",
            "====> Epoch: 61 Average loss: 115.9189\n",
            "Train Epoch: 62 [0/1000 (0%)]\tLoss: 129.528046\n",
            "====> Epoch: 62 Average loss: 113.8761\n",
            "Train Epoch: 63 [0/1000 (0%)]\tLoss: 124.797424\n",
            "====> Epoch: 63 Average loss: 114.3501\n",
            "Train Epoch: 64 [0/1000 (0%)]\tLoss: 132.848755\n",
            "====> Epoch: 64 Average loss: 114.4598\n",
            "Train Epoch: 65 [0/1000 (0%)]\tLoss: 129.816452\n",
            "====> Epoch: 65 Average loss: 114.0077\n",
            "Train Epoch: 66 [0/1000 (0%)]\tLoss: 125.285637\n",
            "====> Epoch: 66 Average loss: 113.6664\n",
            "Train Epoch: 67 [0/1000 (0%)]\tLoss: 129.873611\n",
            "====> Epoch: 67 Average loss: 113.1436\n",
            "Train Epoch: 68 [0/1000 (0%)]\tLoss: 126.681259\n",
            "====> Epoch: 68 Average loss: 112.3217\n",
            "Train Epoch: 69 [0/1000 (0%)]\tLoss: 123.025078\n",
            "====> Epoch: 69 Average loss: 111.6248\n",
            "Train Epoch: 70 [0/1000 (0%)]\tLoss: 121.798820\n",
            "====> Epoch: 70 Average loss: 111.7576\n",
            "Train Epoch: 71 [0/1000 (0%)]\tLoss: 118.543320\n",
            "====> Epoch: 71 Average loss: 110.4117\n",
            "Train Epoch: 72 [0/1000 (0%)]\tLoss: 125.813126\n",
            "====> Epoch: 72 Average loss: 110.7366\n",
            "Train Epoch: 73 [0/1000 (0%)]\tLoss: 123.289368\n",
            "====> Epoch: 73 Average loss: 109.9841\n",
            "Train Epoch: 74 [0/1000 (0%)]\tLoss: 123.741150\n",
            "====> Epoch: 74 Average loss: 110.6584\n",
            "Train Epoch: 75 [0/1000 (0%)]\tLoss: 123.924370\n",
            "====> Epoch: 75 Average loss: 109.9919\n",
            "Train Epoch: 76 [0/1000 (0%)]\tLoss: 121.805069\n",
            "====> Epoch: 76 Average loss: 109.1680\n",
            "Train Epoch: 77 [0/1000 (0%)]\tLoss: 129.681183\n",
            "====> Epoch: 77 Average loss: 109.3507\n",
            "Train Epoch: 78 [0/1000 (0%)]\tLoss: 118.582382\n",
            "====> Epoch: 78 Average loss: 109.5394\n",
            "Train Epoch: 79 [0/1000 (0%)]\tLoss: 117.361786\n",
            "====> Epoch: 79 Average loss: 108.1457\n",
            "Train Epoch: 80 [0/1000 (0%)]\tLoss: 115.904434\n",
            "====> Epoch: 80 Average loss: 108.6452\n",
            "Train Epoch: 81 [0/1000 (0%)]\tLoss: 120.616959\n",
            "====> Epoch: 81 Average loss: 107.8925\n",
            "Train Epoch: 82 [0/1000 (0%)]\tLoss: 118.835892\n",
            "====> Epoch: 82 Average loss: 107.0482\n",
            "Train Epoch: 83 [0/1000 (0%)]\tLoss: 121.351418\n",
            "====> Epoch: 83 Average loss: 107.5463\n",
            "Train Epoch: 84 [0/1000 (0%)]\tLoss: 118.699165\n",
            "====> Epoch: 84 Average loss: 107.2858\n",
            "Train Epoch: 85 [0/1000 (0%)]\tLoss: 112.996979\n",
            "====> Epoch: 85 Average loss: 106.6032\n",
            "Train Epoch: 86 [0/1000 (0%)]\tLoss: 115.383835\n",
            "====> Epoch: 86 Average loss: 105.7683\n",
            "Train Epoch: 87 [0/1000 (0%)]\tLoss: 119.944008\n",
            "====> Epoch: 87 Average loss: 105.6071\n",
            "Train Epoch: 88 [0/1000 (0%)]\tLoss: 117.901367\n",
            "====> Epoch: 88 Average loss: 106.0298\n",
            "Train Epoch: 89 [0/1000 (0%)]\tLoss: 120.760338\n",
            "====> Epoch: 89 Average loss: 105.8422\n",
            "Train Epoch: 90 [0/1000 (0%)]\tLoss: 118.123856\n",
            "====> Epoch: 90 Average loss: 105.4507\n",
            "Train Epoch: 91 [0/1000 (0%)]\tLoss: 113.182793\n",
            "====> Epoch: 91 Average loss: 105.2602\n",
            "Train Epoch: 92 [0/1000 (0%)]\tLoss: 116.602882\n",
            "====> Epoch: 92 Average loss: 104.6323\n",
            "Train Epoch: 93 [0/1000 (0%)]\tLoss: 117.596931\n",
            "====> Epoch: 93 Average loss: 105.6280\n",
            "Train Epoch: 94 [0/1000 (0%)]\tLoss: 116.605949\n",
            "====> Epoch: 94 Average loss: 104.6595\n",
            "Train Epoch: 95 [0/1000 (0%)]\tLoss: 118.364166\n",
            "====> Epoch: 95 Average loss: 103.9283\n",
            "Train Epoch: 96 [0/1000 (0%)]\tLoss: 110.655510\n",
            "====> Epoch: 96 Average loss: 103.5752\n",
            "Train Epoch: 97 [0/1000 (0%)]\tLoss: 113.117844\n",
            "====> Epoch: 97 Average loss: 103.8197\n",
            "Train Epoch: 98 [0/1000 (0%)]\tLoss: 111.842957\n",
            "====> Epoch: 98 Average loss: 103.5539\n",
            "Train Epoch: 99 [0/1000 (0%)]\tLoss: 108.028511\n",
            "====> Epoch: 99 Average loss: 103.1758\n",
            "Train Epoch: 100 [0/1000 (0%)]\tLoss: 110.295143\n",
            "====> Epoch: 100 Average loss: 103.4469\n",
            "Train Epoch: 101 [0/1000 (0%)]\tLoss: 115.547958\n",
            "====> Epoch: 101 Average loss: 103.2989\n",
            "Train Epoch: 102 [0/1000 (0%)]\tLoss: 112.819122\n",
            "====> Epoch: 102 Average loss: 102.3810\n",
            "Train Epoch: 103 [0/1000 (0%)]\tLoss: 112.524445\n",
            "====> Epoch: 103 Average loss: 102.2881\n",
            "Train Epoch: 104 [0/1000 (0%)]\tLoss: 117.054527\n",
            "====> Epoch: 104 Average loss: 102.6195\n",
            "Train Epoch: 105 [0/1000 (0%)]\tLoss: 112.938171\n",
            "====> Epoch: 105 Average loss: 102.0721\n",
            "Train Epoch: 106 [0/1000 (0%)]\tLoss: 115.059418\n",
            "====> Epoch: 106 Average loss: 101.6030\n",
            "Train Epoch: 107 [0/1000 (0%)]\tLoss: 116.618462\n",
            "====> Epoch: 107 Average loss: 101.1326\n",
            "Train Epoch: 108 [0/1000 (0%)]\tLoss: 116.195923\n",
            "====> Epoch: 108 Average loss: 101.5968\n",
            "Train Epoch: 109 [0/1000 (0%)]\tLoss: 113.956268\n",
            "====> Epoch: 109 Average loss: 101.3352\n",
            "Train Epoch: 110 [0/1000 (0%)]\tLoss: 110.644058\n",
            "====> Epoch: 110 Average loss: 101.0542\n",
            "Train Epoch: 111 [0/1000 (0%)]\tLoss: 111.667755\n",
            "====> Epoch: 111 Average loss: 100.9170\n",
            "Train Epoch: 112 [0/1000 (0%)]\tLoss: 115.963852\n",
            "====> Epoch: 112 Average loss: 100.9678\n",
            "Train Epoch: 113 [0/1000 (0%)]\tLoss: 108.623184\n",
            "====> Epoch: 113 Average loss: 100.9783\n",
            "Train Epoch: 114 [0/1000 (0%)]\tLoss: 112.088264\n",
            "====> Epoch: 114 Average loss: 99.7337\n",
            "Train Epoch: 115 [0/1000 (0%)]\tLoss: 109.783150\n",
            "====> Epoch: 115 Average loss: 99.3621\n",
            "Train Epoch: 116 [0/1000 (0%)]\tLoss: 112.369049\n",
            "====> Epoch: 116 Average loss: 99.9738\n",
            "Train Epoch: 117 [0/1000 (0%)]\tLoss: 110.725250\n",
            "====> Epoch: 117 Average loss: 99.4319\n",
            "Train Epoch: 118 [0/1000 (0%)]\tLoss: 113.923828\n",
            "====> Epoch: 118 Average loss: 99.1478\n",
            "Train Epoch: 119 [0/1000 (0%)]\tLoss: 112.465630\n",
            "====> Epoch: 119 Average loss: 99.1864\n",
            "Train Epoch: 120 [0/1000 (0%)]\tLoss: 116.764206\n",
            "====> Epoch: 120 Average loss: 98.9597\n",
            "Train Epoch: 121 [0/1000 (0%)]\tLoss: 113.963448\n",
            "====> Epoch: 121 Average loss: 98.9721\n",
            "Train Epoch: 122 [0/1000 (0%)]\tLoss: 108.861374\n",
            "====> Epoch: 122 Average loss: 98.6211\n",
            "Train Epoch: 123 [0/1000 (0%)]\tLoss: 107.207748\n",
            "====> Epoch: 123 Average loss: 98.4736\n",
            "Train Epoch: 124 [0/1000 (0%)]\tLoss: 106.176529\n",
            "====> Epoch: 124 Average loss: 97.3831\n",
            "Train Epoch: 125 [0/1000 (0%)]\tLoss: 110.417160\n",
            "====> Epoch: 125 Average loss: 98.4467\n",
            "Train Epoch: 126 [0/1000 (0%)]\tLoss: 109.339119\n",
            "====> Epoch: 126 Average loss: 98.1060\n",
            "Train Epoch: 127 [0/1000 (0%)]\tLoss: 111.638168\n",
            "====> Epoch: 127 Average loss: 97.6080\n",
            "Train Epoch: 128 [0/1000 (0%)]\tLoss: 110.785950\n",
            "====> Epoch: 128 Average loss: 97.8231\n",
            "Train Epoch: 129 [0/1000 (0%)]\tLoss: 107.006607\n",
            "====> Epoch: 129 Average loss: 96.6026\n",
            "Train Epoch: 130 [0/1000 (0%)]\tLoss: 104.741280\n",
            "====> Epoch: 130 Average loss: 97.0517\n",
            "Train Epoch: 131 [0/1000 (0%)]\tLoss: 105.827972\n",
            "====> Epoch: 131 Average loss: 96.5814\n",
            "Train Epoch: 132 [0/1000 (0%)]\tLoss: 112.684387\n",
            "====> Epoch: 132 Average loss: 96.6679\n",
            "Train Epoch: 133 [0/1000 (0%)]\tLoss: 106.516922\n",
            "====> Epoch: 133 Average loss: 96.4985\n",
            "Train Epoch: 134 [0/1000 (0%)]\tLoss: 105.585327\n",
            "====> Epoch: 134 Average loss: 96.4356\n",
            "Train Epoch: 135 [0/1000 (0%)]\tLoss: 103.157043\n",
            "====> Epoch: 135 Average loss: 96.3096\n",
            "Train Epoch: 136 [0/1000 (0%)]\tLoss: 108.226509\n",
            "====> Epoch: 136 Average loss: 95.6312\n",
            "Train Epoch: 137 [0/1000 (0%)]\tLoss: 105.434807\n",
            "====> Epoch: 137 Average loss: 95.5581\n",
            "Train Epoch: 138 [0/1000 (0%)]\tLoss: 104.262688\n",
            "====> Epoch: 138 Average loss: 95.6347\n",
            "Train Epoch: 139 [0/1000 (0%)]\tLoss: 107.970627\n",
            "====> Epoch: 139 Average loss: 95.2194\n",
            "Train Epoch: 140 [0/1000 (0%)]\tLoss: 104.532249\n",
            "====> Epoch: 140 Average loss: 95.4207\n",
            "Train Epoch: 141 [0/1000 (0%)]\tLoss: 103.697189\n",
            "====> Epoch: 141 Average loss: 94.6834\n",
            "Train Epoch: 142 [0/1000 (0%)]\tLoss: 107.649422\n",
            "====> Epoch: 142 Average loss: 95.3279\n",
            "Train Epoch: 143 [0/1000 (0%)]\tLoss: 104.752991\n",
            "====> Epoch: 143 Average loss: 94.5123\n",
            "Train Epoch: 144 [0/1000 (0%)]\tLoss: 100.923241\n",
            "====> Epoch: 144 Average loss: 94.6314\n",
            "Train Epoch: 145 [0/1000 (0%)]\tLoss: 103.557968\n",
            "====> Epoch: 145 Average loss: 94.6578\n",
            "Train Epoch: 146 [0/1000 (0%)]\tLoss: 106.000053\n",
            "====> Epoch: 146 Average loss: 94.4915\n",
            "Train Epoch: 147 [0/1000 (0%)]\tLoss: 106.241241\n",
            "====> Epoch: 147 Average loss: 94.0663\n",
            "Train Epoch: 148 [0/1000 (0%)]\tLoss: 105.295609\n",
            "====> Epoch: 148 Average loss: 94.1476\n",
            "Train Epoch: 149 [0/1000 (0%)]\tLoss: 103.172592\n",
            "====> Epoch: 149 Average loss: 93.1126\n"
          ]
        }
      ]
    },
    {
      "cell_type": "markdown",
      "source": [
        "Now, generate some images with the VAE model"
      ],
      "metadata": {
        "id": "uTfRje_AkKDr"
      }
    },
    {
      "cell_type": "code",
      "source": [
        "def generate_images_vae(vae_model, n_images=5):\n",
        "    epsilon = torch.randn(n_images, vae_model.z_dim)\n",
        "    imgs_generated = vae_model.decoder(epsilon)\n",
        "    return imgs_generated.view(n_images, 1, 28, 28)\n",
        "\n",
        "imgs_generated = generate_images_vae(vae_model, n_images=5)\n",
        "display_images(imgs_generated)\n"
      ],
      "metadata": {
        "id": "41tXdNsFkKk5",
        "colab": {
          "base_uri": "https://localhost:8080/",
          "height": 89
        },
        "outputId": "26e67367-d016-4f20-bd08-72211be70d96"
      },
      "execution_count": 50,
      "outputs": [
        {
          "output_type": "display_data",
          "data": {
            "text/plain": [
              "<Figure size 432x288 with 5 Axes>"
            ],
            "image/png": "[encoded data removed]"
          },
          "metadata": {
            "needs_background": "light"
          }
        }
      ]
    },
    {
      "cell_type": "markdown",
      "source": [
        "Do you think the results are better ? What difference can you see ? What advantage does the Variational Autoencoder have over the simple autoencoder model, even though the second autoencoder approach has a more complex probabilistic latent model (a full covariance matrix) ?"
      ],
      "metadata": {
        "id": "lGnvKoynzaFN"
      }
    },
    {
      "cell_type": "markdown",
      "source": [
        "__Answer__"
      ],
      "metadata": {
        "id": "uuYn3_PBzjkI"
      }
    },
    {
      "cell_type": "markdown",
      "source": [
        "Yes they are better. The VAE model produces much better results than the simple autoencoder model. The images generated by VAE are much more clear, and it can generate images with more variety, unlike the simple autoencoder model. The VAE model has an advantage over the simple autoencoder model because it uses a probabilistic approach to generate the latent space. The simple autoencoder model is not able to produce diverse latent spaces because it just maps the input image to a single point in the latent space. However, the VAE model maps the input image to a probability distribution over the latent space. This allows it to produce a diverse set of latent codes, which in turn allows it to generate more diverse images."
      ],
      "metadata": {
        "id": "uXm-D9Ef9vYm"
      }
    },
    {
      "cell_type": "markdown",
      "source": [
        "# 3 Evaluating and comparing the models\n",
        "\n",
        "We will evaluate the models, in the following manner:\n",
        "\n",
        "- we train a simple convolutional neural network classifier on mnist, to a good accuracy\n",
        "- we generate images with each model\n",
        "- we find the average of the highest probability of the images according to the classifier, for each model. If this value is high, it means that on average the classifier considers that the images look like a \n",
        "\n",
        "We will use the following convoluional architecture for the classifier:\n",
        "\n",
        "- conv2d, filter size  3×3 , 32 filters, stride=(2,2), padding=\"SAME\"\n",
        "- ReLU\n",
        "- conv2d, filter size  3×3 , 32 filters, stride=(2,2), padding=\"SAME\"\n",
        "- ReLU\n",
        "- MaxPool2D, stride=(2,2)\n",
        "- Flatten\n",
        "- Dense layer\n",
        "\n",
        "Now, define the model. To make things easier, use the ```torch.nn.Sequential``` API (there is no need for a Class in this simple case)."
      ],
      "metadata": {
        "id": "04MddkzuE324"
      }
    },
    {
      "cell_type": "code",
      "source": [
        "import torch.nn as nn\n",
        "\n",
        "learning_rate = 0.01\n",
        "n_epochs = 20\n",
        "batch_size = 64\n",
        "nb_classes = int(mnist_trainset.targets.max()+1)\n",
        "\n",
        "# number of convolutional filters to use\n",
        "nb_filters = 32\n",
        "# convolution kernel size\n",
        "kernel_size = (3, 3)\n",
        "# size of pooling area for max pooling\n",
        "pool_size = (2, 2)\n",
        "\n",
        "# --- Size of the successive layers\n",
        "n_h_0 = 1 #greyscale input images\n",
        "n_h_1 = nb_filters\n",
        "n_h_2 = nb_filters\n",
        "\n",
        "mnist_classification_model = nn.Sequential(\n",
        "    nn.Conv2d(in_channels=n_h_0, out_channels=n_h_1, kernel_size=kernel_size, stride=(2,2), padding=1),\n",
        "    nn.ReLU(),\n",
        "    nn.Conv2d(in_channels=n_h_1, out_channels=n_h_2, kernel_size=kernel_size, stride=(2,2), padding=1),\n",
        "    nn.ReLU(),\n",
        "    nn.MaxPool2d(kernel_size=pool_size, stride=(2,2)),\n",
        "    nn.Flatten(),\n",
        "    nn.Linear(n_h_2*7*7, nb_classes)\n",
        ")\n",
        "\n",
        "criterion = nn.CrossEntropyLoss()\n",
        "optimizer = torch.optim.Adam(mnist_classification_model.parameters(), lr=learning_rate)\n"
      ],
      "metadata": {
        "id": "P87a-DkXFOCv"
      },
      "execution_count": 104,
      "outputs": []
    },
    {
      "cell_type": "markdown",
      "source": [
        "Create a function to calculate accuracy, instead of loss"
      ],
      "metadata": {
        "id": "_sUZONxw2bnt"
      }
    },
    {
      "cell_type": "code",
      "source": [
        "def get_accuracy(x_pred,x_label):\n",
        "  acc = torch.sum(x_pred == x_label)/(x_pred.shape[0])\n",
        "  return acc"
      ],
      "metadata": {
        "id": "aOww0ydr2fT0"
      },
      "execution_count": 73,
      "outputs": []
    },
    {
      "cell_type": "markdown",
      "source": [
        "Now, train the model. You should be able to achieve an accuracy close to 1.00 within 20 epochs"
      ],
      "metadata": {
        "id": "qw0vkZIqFcse"
      }
    },
    {
      "cell_type": "code",
      "source": [
        "train_losses=[]\n",
        "valid_losses=[]\n",
        "\n",
        "for epoch in range(0,n_epochs):\n",
        "  train_loss=0.0\n",
        "\n",
        "  for batch_idx, (imgs, labels) in enumerate(mnist_train_loader):\n",
        "\n",
        "    # set the gradients back to 0\n",
        "    optimizer.zero_grad()\n",
        "    predict=mnist_classification_model(imgs)\n",
        "    # apply loss function\n",
        "    loss=criterion(predict,labels)\n",
        "    acc = get_accuracy(torch.argmax(predict,dim=1),labels)\n",
        "    # backpropagation\n",
        "    loss.backward()\n",
        "    optimizer.step()\n",
        "    train_loss=loss.item()\n",
        "  print('Epoch:{} Train Loss:{:.4f} Accuracy:{:.4f}'.format(epoch,train_loss/imgs.shape[0],acc)) "
      ],
      "metadata": {
        "id": "0FA8YoX2FcHP",
        "colab": {
          "base_uri": "https://localhost:8080/",
          "height": 391
        },
        "outputId": "83ea763f-d900-43d2-d083-b9dfa04d7c69"
      },
      "execution_count": 105,
      "outputs": [
        {
          "output_type": "error",
          "ename": "RuntimeError",
          "evalue": "ignored",
          "traceback": [
            "\u001b[0;31m---------------------------------------------------------------------------\u001b[0m",
            "\u001b[0;31mRuntimeError\u001b[0m                              Traceback (most recent call last)",
            "\u001b[0;32m<ipython-input-105-198addb7a3a0>\u001b[0m in \u001b[0;36m<module>\u001b[0;34m\u001b[0m\n\u001b[1;32m      9\u001b[0m     \u001b[0;31m# set the gradients back to 0\u001b[0m\u001b[0;34m\u001b[0m\u001b[0;34m\u001b[0m\u001b[0m\n\u001b[1;32m     10\u001b[0m     \u001b[0moptimizer\u001b[0m\u001b[0;34m.\u001b[0m\u001b[0mzero_grad\u001b[0m\u001b[0;34m(\u001b[0m\u001b[0;34m)\u001b[0m\u001b[0;34m\u001b[0m\u001b[0;34m\u001b[0m\u001b[0m\n\u001b[0;32m---> 11\u001b[0;31m     \u001b[0mpredict\u001b[0m\u001b[0;34m=\u001b[0m\u001b[0mmnist_classification_model\u001b[0m\u001b[0;34m(\u001b[0m\u001b[0mimgs\u001b[0m\u001b[0;34m)\u001b[0m\u001b[0;34m\u001b[0m\u001b[0;34m\u001b[0m\u001b[0m\n\u001b[0m\u001b[1;32m     12\u001b[0m     \u001b[0;31m# apply loss function\u001b[0m\u001b[0;34m\u001b[0m\u001b[0;34m\u001b[0m\u001b[0m\n\u001b[1;32m     13\u001b[0m     \u001b[0mloss\u001b[0m\u001b[0;34m=\u001b[0m\u001b[0mcriterion\u001b[0m\u001b[0;34m(\u001b[0m\u001b[0mpredict\u001b[0m\u001b[0;34m,\u001b[0m\u001b[0mlabels\u001b[0m\u001b[0;34m)\u001b[0m\u001b[0;34m\u001b[0m\u001b[0;34m\u001b[0m\u001b[0m\n",
            "\u001b[0;32m/usr/local/lib/python3.9/dist-packages/torch/nn/modules/module.py\u001b[0m in \u001b[0;36m_call_impl\u001b[0;34m(self, *input, **kwargs)\u001b[0m\n\u001b[1;32m   1192\u001b[0m         if not (self._backward_hooks or self._forward_hooks or self._forward_pre_hooks or _global_backward_hooks\n\u001b[1;32m   1193\u001b[0m                 or _global_forward_hooks or _global_forward_pre_hooks):\n\u001b[0;32m-> 1194\u001b[0;31m             \u001b[0;32mreturn\u001b[0m \u001b[0mforward_call\u001b[0m\u001b[0;34m(\u001b[0m\u001b[0;34m*\u001b[0m\u001b[0minput\u001b[0m\u001b[0;34m,\u001b[0m \u001b[0;34m**\u001b[0m\u001b[0mkwargs\u001b[0m\u001b[0;34m)\u001b[0m\u001b[0;34m\u001b[0m\u001b[0;34m\u001b[0m\u001b[0m\n\u001b[0m\u001b[1;32m   1195\u001b[0m         \u001b[0;31m# Do not call functions when jit is used\u001b[0m\u001b[0;34m\u001b[0m\u001b[0;34m\u001b[0m\u001b[0m\n\u001b[1;32m   1196\u001b[0m         \u001b[0mfull_backward_hooks\u001b[0m\u001b[0;34m,\u001b[0m \u001b[0mnon_full_backward_hooks\u001b[0m \u001b[0;34m=\u001b[0m \u001b[0;34m[\u001b[0m\u001b[0;34m]\u001b[0m\u001b[0;34m,\u001b[0m \u001b[0;34m[\u001b[0m\u001b[0;34m]\u001b[0m\u001b[0;34m\u001b[0m\u001b[0;34m\u001b[0m\u001b[0m\n",
            "\u001b[0;32m/usr/local/lib/python3.9/dist-packages/torch/nn/modules/container.py\u001b[0m in \u001b[0;36mforward\u001b[0;34m(self, input)\u001b[0m\n\u001b[1;32m    202\u001b[0m     \u001b[0;32mdef\u001b[0m \u001b[0mforward\u001b[0m\u001b[0;34m(\u001b[0m\u001b[0mself\u001b[0m\u001b[0;34m,\u001b[0m \u001b[0minput\u001b[0m\u001b[0;34m)\u001b[0m\u001b[0;34m:\u001b[0m\u001b[0;34m\u001b[0m\u001b[0;34m\u001b[0m\u001b[0m\n\u001b[1;32m    203\u001b[0m         \u001b[0;32mfor\u001b[0m \u001b[0mmodule\u001b[0m \u001b[0;32min\u001b[0m \u001b[0mself\u001b[0m\u001b[0;34m:\u001b[0m\u001b[0;34m\u001b[0m\u001b[0;34m\u001b[0m\u001b[0m\n\u001b[0;32m--> 204\u001b[0;31m             \u001b[0minput\u001b[0m \u001b[0;34m=\u001b[0m \u001b[0mmodule\u001b[0m\u001b[0;34m(\u001b[0m\u001b[0minput\u001b[0m\u001b[0;34m)\u001b[0m\u001b[0;34m\u001b[0m\u001b[0;34m\u001b[0m\u001b[0m\n\u001b[0m\u001b[1;32m    205\u001b[0m         \u001b[0;32mreturn\u001b[0m \u001b[0minput\u001b[0m\u001b[0;34m\u001b[0m\u001b[0;34m\u001b[0m\u001b[0m\n\u001b[1;32m    206\u001b[0m \u001b[0;34m\u001b[0m\u001b[0m\n",
            "\u001b[0;32m/usr/local/lib/python3.9/dist-packages/torch/nn/modules/module.py\u001b[0m in \u001b[0;36m_call_impl\u001b[0;34m(self, *input, **kwargs)\u001b[0m\n\u001b[1;32m   1192\u001b[0m         if not (self._backward_hooks or self._forward_hooks or self._forward_pre_hooks or _global_backward_hooks\n\u001b[1;32m   1193\u001b[0m                 or _global_forward_hooks or _global_forward_pre_hooks):\n\u001b[0;32m-> 1194\u001b[0;31m             \u001b[0;32mreturn\u001b[0m \u001b[0mforward_call\u001b[0m\u001b[0;34m(\u001b[0m\u001b[0;34m*\u001b[0m\u001b[0minput\u001b[0m\u001b[0;34m,\u001b[0m \u001b[0;34m**\u001b[0m\u001b[0mkwargs\u001b[0m\u001b[0;34m)\u001b[0m\u001b[0;34m\u001b[0m\u001b[0;34m\u001b[0m\u001b[0m\n\u001b[0m\u001b[1;32m   1195\u001b[0m         \u001b[0;31m# Do not call functions when jit is used\u001b[0m\u001b[0;34m\u001b[0m\u001b[0;34m\u001b[0m\u001b[0m\n\u001b[1;32m   1196\u001b[0m         \u001b[0mfull_backward_hooks\u001b[0m\u001b[0;34m,\u001b[0m \u001b[0mnon_full_backward_hooks\u001b[0m \u001b[0;34m=\u001b[0m \u001b[0;34m[\u001b[0m\u001b[0;34m]\u001b[0m\u001b[0;34m,\u001b[0m \u001b[0;34m[\u001b[0m\u001b[0;34m]\u001b[0m\u001b[0;34m\u001b[0m\u001b[0;34m\u001b[0m\u001b[0m\n",
            "\u001b[0;32m/usr/local/lib/python3.9/dist-packages/torch/nn/modules/linear.py\u001b[0m in \u001b[0;36mforward\u001b[0;34m(self, input)\u001b[0m\n\u001b[1;32m    112\u001b[0m \u001b[0;34m\u001b[0m\u001b[0m\n\u001b[1;32m    113\u001b[0m     \u001b[0;32mdef\u001b[0m \u001b[0mforward\u001b[0m\u001b[0;34m(\u001b[0m\u001b[0mself\u001b[0m\u001b[0;34m,\u001b[0m \u001b[0minput\u001b[0m\u001b[0;34m:\u001b[0m \u001b[0mTensor\u001b[0m\u001b[0;34m)\u001b[0m \u001b[0;34m->\u001b[0m \u001b[0mTensor\u001b[0m\u001b[0;34m:\u001b[0m\u001b[0;34m\u001b[0m\u001b[0;34m\u001b[0m\u001b[0m\n\u001b[0;32m--> 114\u001b[0;31m         \u001b[0;32mreturn\u001b[0m \u001b[0mF\u001b[0m\u001b[0;34m.\u001b[0m\u001b[0mlinear\u001b[0m\u001b[0;34m(\u001b[0m\u001b[0minput\u001b[0m\u001b[0;34m,\u001b[0m \u001b[0mself\u001b[0m\u001b[0;34m.\u001b[0m\u001b[0mweight\u001b[0m\u001b[0;34m,\u001b[0m \u001b[0mself\u001b[0m\u001b[0;34m.\u001b[0m\u001b[0mbias\u001b[0m\u001b[0;34m)\u001b[0m\u001b[0;34m\u001b[0m\u001b[0;34m\u001b[0m\u001b[0m\n\u001b[0m\u001b[1;32m    115\u001b[0m \u001b[0;34m\u001b[0m\u001b[0m\n\u001b[1;32m    116\u001b[0m     \u001b[0;32mdef\u001b[0m \u001b[0mextra_repr\u001b[0m\u001b[0;34m(\u001b[0m\u001b[0mself\u001b[0m\u001b[0;34m)\u001b[0m \u001b[0;34m->\u001b[0m \u001b[0mstr\u001b[0m\u001b[0;34m:\u001b[0m\u001b[0;34m\u001b[0m\u001b[0;34m\u001b[0m\u001b[0m\n",
            "\u001b[0;31mRuntimeError\u001b[0m: mat1 and mat2 shapes cannot be multiplied (128x288 and 1568x10)"
          ]
        }
      ]
    },
    {
      "cell_type": "markdown",
      "source": [
        "I tried everything but I get same error every single time."
      ],
      "metadata": {
        "id": "9adkkUK3XeOx"
      }
    },
    {
      "cell_type": "markdown",
      "source": [
        "### Evaluate the average maximum prediction of the images generated by each generative model (higher is better)\n",
        "\n",
        "Now, we will evaluate the models. For each ones, produce a certain number of images, and put those images through the classification network. Then find the maximum class probability of each image, and average it over all the images. We will use this as a metric to evaluate each model.\n",
        "\n",
        "__CAREFUL__: the output of the network does __not__ include the Softmax layer, so you will have to carry it out, with:\n",
        "- ```torch.nn.Softmax()(...)```\n",
        "\n",
        "Define this metric now:"
      ],
      "metadata": {
        "id": "zFgN5LblFwTa"
      }
    },
    {
      "cell_type": "code",
      "source": [
        "def generative_model_score(imgs_in,classification_model):\n",
        "  gen_score = torch.mean(torch.nn.Softmax(dim=1)(mnist_classification_model(imgs_in)).max())\n",
        "  return(gen_score)"
      ],
      "metadata": {
        "id": "lCJ_0qqjOXHT"
      },
      "execution_count": 96,
      "outputs": []
    },
    {
      "cell_type": "markdown",
      "source": [
        "Now, generate some images with each of the three models, and evaluate these models:"
      ],
      "metadata": {
        "id": "yGq7YFg51UoP"
      }
    },
    {
      "cell_type": "code",
      "source": [
        "imgs_diagonal_gaussian = generate_images_diagonal_gaussian(ae_model,z_average,z_sigma,n_images = 50)\n",
        "imgs_non_diagonal_gaussian = generate_images_non_diagonal_gaussian(ae_model,z_average,z_covariance,n_images = 50)\n",
        "imgs_vae = generate_images_vae(vae_model,n_images=50)\n",
        "\n",
        "# average of maximum of first model \n",
        "diagonal_gaussian_score = float(generative_model_score(imgs_diagonal_gaussian,mnist_classification_model))\n",
        "non_diagonal_gaussian_score = float(generative_model_score(imgs_non_diagonal_gaussian,mnist_classification_model))\n",
        "vae_gaussian_score = float(generative_model_score(imgs_vae,mnist_classification_model))\n",
        "\n",
        "print(\"Diagonal gaussian generative model score : \",diagonal_gaussian_score)\n",
        "print(\"Non diagonal gaussian generative model score : \",non_diagonal_gaussian_score)\n",
        "print(\"Variational autoencoder model score: \",vae_gaussian_score) "
      ],
      "metadata": {
        "id": "4-L4u2jhILFx",
        "colab": {
          "base_uri": "https://localhost:8080/",
          "height": 391
        },
        "outputId": "169368c8-92d3-466e-9e7c-27855e2c2f1d"
      },
      "execution_count": 107,
      "outputs": [
        {
          "output_type": "error",
          "ename": "RuntimeError",
          "evalue": "ignored",
          "traceback": [
            "\u001b[0;31m---------------------------------------------------------------------------\u001b[0m",
            "\u001b[0;31mRuntimeError\u001b[0m                              Traceback (most recent call last)",
            "\u001b[0;32m<ipython-input-107-1e16bc6fb818>\u001b[0m in \u001b[0;36m<module>\u001b[0;34m\u001b[0m\n\u001b[1;32m      5\u001b[0m \u001b[0;31m# average of maximum of first model\u001b[0m\u001b[0;34m\u001b[0m\u001b[0;34m\u001b[0m\u001b[0m\n\u001b[1;32m      6\u001b[0m \u001b[0;31m#diagonal_gaussian_score = float(generative_model_score(imgs_diagonal_gaussian,mnist_classification_model))\u001b[0m\u001b[0;34m\u001b[0m\u001b[0;34m\u001b[0m\u001b[0m\n\u001b[0;32m----> 7\u001b[0;31m \u001b[0mnon_diagonal_gaussian_score\u001b[0m \u001b[0;34m=\u001b[0m \u001b[0mfloat\u001b[0m\u001b[0;34m(\u001b[0m\u001b[0mgenerative_model_score\u001b[0m\u001b[0;34m(\u001b[0m\u001b[0mimgs_non_diagonal_gaussian\u001b[0m\u001b[0;34m,\u001b[0m\u001b[0mmnist_classification_model\u001b[0m\u001b[0;34m)\u001b[0m\u001b[0;34m)\u001b[0m\u001b[0;34m\u001b[0m\u001b[0;34m\u001b[0m\u001b[0m\n\u001b[0m\u001b[1;32m      8\u001b[0m \u001b[0mvae_gaussian_score\u001b[0m \u001b[0;34m=\u001b[0m \u001b[0mfloat\u001b[0m\u001b[0;34m(\u001b[0m\u001b[0mgenerative_model_score\u001b[0m\u001b[0;34m(\u001b[0m\u001b[0mimgs_vae\u001b[0m\u001b[0;34m,\u001b[0m\u001b[0mmnist_classification_model\u001b[0m\u001b[0;34m)\u001b[0m\u001b[0;34m)\u001b[0m\u001b[0;34m\u001b[0m\u001b[0;34m\u001b[0m\u001b[0m\n\u001b[1;32m      9\u001b[0m \u001b[0;34m\u001b[0m\u001b[0m\n",
            "\u001b[0;32m<ipython-input-96-091599e1003e>\u001b[0m in \u001b[0;36mgenerative_model_score\u001b[0;34m(imgs_in, classification_model)\u001b[0m\n\u001b[1;32m      1\u001b[0m \u001b[0;32mdef\u001b[0m \u001b[0mgenerative_model_score\u001b[0m\u001b[0;34m(\u001b[0m\u001b[0mimgs_in\u001b[0m\u001b[0;34m,\u001b[0m\u001b[0mclassification_model\u001b[0m\u001b[0;34m)\u001b[0m\u001b[0;34m:\u001b[0m\u001b[0;34m\u001b[0m\u001b[0;34m\u001b[0m\u001b[0m\n\u001b[0;32m----> 2\u001b[0;31m   \u001b[0mgen_score\u001b[0m \u001b[0;34m=\u001b[0m \u001b[0mtorch\u001b[0m\u001b[0;34m.\u001b[0m\u001b[0mmean\u001b[0m\u001b[0;34m(\u001b[0m\u001b[0mtorch\u001b[0m\u001b[0;34m.\u001b[0m\u001b[0mnn\u001b[0m\u001b[0;34m.\u001b[0m\u001b[0mSoftmax\u001b[0m\u001b[0;34m(\u001b[0m\u001b[0mdim\u001b[0m\u001b[0;34m=\u001b[0m\u001b[0;36m1\u001b[0m\u001b[0;34m)\u001b[0m\u001b[0;34m(\u001b[0m\u001b[0mmnist_classification_model\u001b[0m\u001b[0;34m(\u001b[0m\u001b[0mimgs_in\u001b[0m\u001b[0;34m)\u001b[0m\u001b[0;34m)\u001b[0m\u001b[0;34m.\u001b[0m\u001b[0mmax\u001b[0m\u001b[0;34m(\u001b[0m\u001b[0;34m)\u001b[0m\u001b[0;34m)\u001b[0m\u001b[0;34m\u001b[0m\u001b[0;34m\u001b[0m\u001b[0m\n\u001b[0m\u001b[1;32m      3\u001b[0m   \u001b[0;32mreturn\u001b[0m\u001b[0;34m(\u001b[0m\u001b[0mgen_score\u001b[0m\u001b[0;34m)\u001b[0m\u001b[0;34m\u001b[0m\u001b[0;34m\u001b[0m\u001b[0m\n",
            "\u001b[0;32m/usr/local/lib/python3.9/dist-packages/torch/nn/modules/module.py\u001b[0m in \u001b[0;36m_call_impl\u001b[0;34m(self, *input, **kwargs)\u001b[0m\n\u001b[1;32m   1192\u001b[0m         if not (self._backward_hooks or self._forward_hooks or self._forward_pre_hooks or _global_backward_hooks\n\u001b[1;32m   1193\u001b[0m                 or _global_forward_hooks or _global_forward_pre_hooks):\n\u001b[0;32m-> 1194\u001b[0;31m             \u001b[0;32mreturn\u001b[0m \u001b[0mforward_call\u001b[0m\u001b[0;34m(\u001b[0m\u001b[0;34m*\u001b[0m\u001b[0minput\u001b[0m\u001b[0;34m,\u001b[0m \u001b[0;34m**\u001b[0m\u001b[0mkwargs\u001b[0m\u001b[0;34m)\u001b[0m\u001b[0;34m\u001b[0m\u001b[0;34m\u001b[0m\u001b[0m\n\u001b[0m\u001b[1;32m   1195\u001b[0m         \u001b[0;31m# Do not call functions when jit is used\u001b[0m\u001b[0;34m\u001b[0m\u001b[0;34m\u001b[0m\u001b[0m\n\u001b[1;32m   1196\u001b[0m         \u001b[0mfull_backward_hooks\u001b[0m\u001b[0;34m,\u001b[0m \u001b[0mnon_full_backward_hooks\u001b[0m \u001b[0;34m=\u001b[0m \u001b[0;34m[\u001b[0m\u001b[0;34m]\u001b[0m\u001b[0;34m,\u001b[0m \u001b[0;34m[\u001b[0m\u001b[0;34m]\u001b[0m\u001b[0;34m\u001b[0m\u001b[0;34m\u001b[0m\u001b[0m\n",
            "\u001b[0;32m/usr/local/lib/python3.9/dist-packages/torch/nn/modules/container.py\u001b[0m in \u001b[0;36mforward\u001b[0;34m(self, input)\u001b[0m\n\u001b[1;32m    202\u001b[0m     \u001b[0;32mdef\u001b[0m \u001b[0mforward\u001b[0m\u001b[0;34m(\u001b[0m\u001b[0mself\u001b[0m\u001b[0;34m,\u001b[0m \u001b[0minput\u001b[0m\u001b[0;34m)\u001b[0m\u001b[0;34m:\u001b[0m\u001b[0;34m\u001b[0m\u001b[0;34m\u001b[0m\u001b[0m\n\u001b[1;32m    203\u001b[0m         \u001b[0;32mfor\u001b[0m \u001b[0mmodule\u001b[0m \u001b[0;32min\u001b[0m \u001b[0mself\u001b[0m\u001b[0;34m:\u001b[0m\u001b[0;34m\u001b[0m\u001b[0;34m\u001b[0m\u001b[0m\n\u001b[0;32m--> 204\u001b[0;31m             \u001b[0minput\u001b[0m \u001b[0;34m=\u001b[0m \u001b[0mmodule\u001b[0m\u001b[0;34m(\u001b[0m\u001b[0minput\u001b[0m\u001b[0;34m)\u001b[0m\u001b[0;34m\u001b[0m\u001b[0;34m\u001b[0m\u001b[0m\n\u001b[0m\u001b[1;32m    205\u001b[0m         \u001b[0;32mreturn\u001b[0m \u001b[0minput\u001b[0m\u001b[0;34m\u001b[0m\u001b[0;34m\u001b[0m\u001b[0m\n\u001b[1;32m    206\u001b[0m \u001b[0;34m\u001b[0m\u001b[0m\n",
            "\u001b[0;32m/usr/local/lib/python3.9/dist-packages/torch/nn/modules/module.py\u001b[0m in \u001b[0;36m_call_impl\u001b[0;34m(self, *input, **kwargs)\u001b[0m\n\u001b[1;32m   1192\u001b[0m         if not (self._backward_hooks or self._forward_hooks or self._forward_pre_hooks or _global_backward_hooks\n\u001b[1;32m   1193\u001b[0m                 or _global_forward_hooks or _global_forward_pre_hooks):\n\u001b[0;32m-> 1194\u001b[0;31m             \u001b[0;32mreturn\u001b[0m \u001b[0mforward_call\u001b[0m\u001b[0;34m(\u001b[0m\u001b[0;34m*\u001b[0m\u001b[0minput\u001b[0m\u001b[0;34m,\u001b[0m \u001b[0;34m**\u001b[0m\u001b[0mkwargs\u001b[0m\u001b[0;34m)\u001b[0m\u001b[0;34m\u001b[0m\u001b[0;34m\u001b[0m\u001b[0m\n\u001b[0m\u001b[1;32m   1195\u001b[0m         \u001b[0;31m# Do not call functions when jit is used\u001b[0m\u001b[0;34m\u001b[0m\u001b[0;34m\u001b[0m\u001b[0m\n\u001b[1;32m   1196\u001b[0m         \u001b[0mfull_backward_hooks\u001b[0m\u001b[0;34m,\u001b[0m \u001b[0mnon_full_backward_hooks\u001b[0m \u001b[0;34m=\u001b[0m \u001b[0;34m[\u001b[0m\u001b[0;34m]\u001b[0m\u001b[0;34m,\u001b[0m \u001b[0;34m[\u001b[0m\u001b[0;34m]\u001b[0m\u001b[0;34m\u001b[0m\u001b[0;34m\u001b[0m\u001b[0m\n",
            "\u001b[0;32m/usr/local/lib/python3.9/dist-packages/torch/nn/modules/linear.py\u001b[0m in \u001b[0;36mforward\u001b[0;34m(self, input)\u001b[0m\n\u001b[1;32m    112\u001b[0m \u001b[0;34m\u001b[0m\u001b[0m\n\u001b[1;32m    113\u001b[0m     \u001b[0;32mdef\u001b[0m \u001b[0mforward\u001b[0m\u001b[0;34m(\u001b[0m\u001b[0mself\u001b[0m\u001b[0;34m,\u001b[0m \u001b[0minput\u001b[0m\u001b[0;34m:\u001b[0m \u001b[0mTensor\u001b[0m\u001b[0;34m)\u001b[0m \u001b[0;34m->\u001b[0m \u001b[0mTensor\u001b[0m\u001b[0;34m:\u001b[0m\u001b[0;34m\u001b[0m\u001b[0;34m\u001b[0m\u001b[0m\n\u001b[0;32m--> 114\u001b[0;31m         \u001b[0;32mreturn\u001b[0m \u001b[0mF\u001b[0m\u001b[0;34m.\u001b[0m\u001b[0mlinear\u001b[0m\u001b[0;34m(\u001b[0m\u001b[0minput\u001b[0m\u001b[0;34m,\u001b[0m \u001b[0mself\u001b[0m\u001b[0;34m.\u001b[0m\u001b[0mweight\u001b[0m\u001b[0;34m,\u001b[0m \u001b[0mself\u001b[0m\u001b[0;34m.\u001b[0m\u001b[0mbias\u001b[0m\u001b[0;34m)\u001b[0m\u001b[0;34m\u001b[0m\u001b[0;34m\u001b[0m\u001b[0m\n\u001b[0m\u001b[1;32m    115\u001b[0m \u001b[0;34m\u001b[0m\u001b[0m\n\u001b[1;32m    116\u001b[0m     \u001b[0;32mdef\u001b[0m \u001b[0mextra_repr\u001b[0m\u001b[0;34m(\u001b[0m\u001b[0mself\u001b[0m\u001b[0;34m)\u001b[0m \u001b[0;34m->\u001b[0m \u001b[0mstr\u001b[0m\u001b[0;34m:\u001b[0m\u001b[0;34m\u001b[0m\u001b[0;34m\u001b[0m\u001b[0m\n",
            "\u001b[0;31mRuntimeError\u001b[0m: mat1 and mat2 shapes cannot be multiplied (50x288 and 1568x10)"
          ]
        }
      ]
    },
    {
      "cell_type": "markdown",
      "source": [
        "Please answer the following questions:\n",
        "\n",
        "- Which model is better quantitatively ? \n",
        "- Do the quantitative result support the qualitative results ?\n",
        "- Can you see any drawbacks of this method of evaluation ?\n",
        "- Can you propose any more sophisticated models than the multivariate Gaussian approach (apart from the variational autoencoder) ? "
      ],
      "metadata": {
        "id": "sxvsG8FC1gNS"
      }
    },
    {
      "cell_type": "markdown",
      "source": [
        "__Answer__\n",
        "\n",
        "As I got unexpected error on mnist_classification_model fucntion, I can't get results to answer these questions. However, I would like to introduce some expected answers to these questions.\n",
        "\n",
        "- Quantitatively best model would be the VAE. Because, the VAE model maps the input image to a probability distribution over the latent space. This allows it to produce a diverse set of latent codes, which in turn allows it to generate more diverse images.\n",
        "\n",
        "- There are many other models that could be used for generative modeling, depending on the specific application and requirements. For example, Generative Adversarial Networks (GANs) are a popular and powerful approach for image synthesis."
      ],
      "metadata": {
        "id": "3SYCyfKR3G7Y"
      }
    }
  ]
}